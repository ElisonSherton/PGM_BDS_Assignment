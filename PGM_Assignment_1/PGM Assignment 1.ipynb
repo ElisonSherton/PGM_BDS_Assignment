{
 "cells": [
  {
   "cell_type": "markdown",
   "id": "87d34787-0593-4e0b-95fa-42d8cf024a19",
   "metadata": {},
   "source": [
    "## Probabilistic Graphical Models Assignment 1\n",
    "\n",
    "This submission is made by Group 19 for PGM Assignment 1. \n",
    "\n",
    "**Group 19**\n",
    "\n",
    "Members as follows\n",
    "\n",
    "|Name|BITS ID|\n",
    "|--|--|\n",
    "|Vinayak Nayak|2021fc04135|\n",
    "|Shreysi Kalra|2021fc04586|\n",
    "|Karan Khajuria|2021fc04951|\n",
    "\n",
    "We have structured our solution in two parts, first we solved manually and next we solved using `pgmpy` as well. Mentioned both the solutions on the subsequent pages."
   ]
  }
 ],
 "metadata": {
  "kernelspec": {
   "display_name": "Python 3 (ipykernel)",
   "language": "python",
   "name": "python3"
  }
 },
 "nbformat": 4,
 "nbformat_minor": 5
}
