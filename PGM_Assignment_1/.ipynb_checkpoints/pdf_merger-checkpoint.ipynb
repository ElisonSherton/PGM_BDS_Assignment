{
 "cells": [
  {
   "cell_type": "code",
   "execution_count": null,
   "id": "dd2ca340-e479-4442-9fec-ee1235f30024",
   "metadata": {},
   "outputs": [],
   "source": [
    "from PyPDF2 import PdfMerger\n",
    "\n",
    "pdfs = [\"PGM_cover.pdf\", \"PGMHandwrittenAssignment.pdf\", \"Assignment_1_notebook.pdf\"]\n",
    "\n",
    "merger = PdfMerger()\n",
    "\n",
    "for pdf in pdfs:\n",
    "    merger.append(pdf)\n",
    "\n",
    "merger.write(\"Final_Assignment1.pdf\")\n",
    "merger.close()"
   ]
  }
 ],
 "metadata": {
  "kernelspec": {
   "display_name": "Python 3 (ipykernel)",
   "language": "python",
   "name": "python3"
  }
 },
 "nbformat": 4,
 "nbformat_minor": 5
}
