{
 "cells": [
  {
   "cell_type": "code",
   "execution_count": null,
   "id": "66b79df4-acc7-4e65-a434-322733e084eb",
   "metadata": {},
   "outputs": [],
   "source": [
    "# Import all the necessary libraries\n",
    "from pgmpy.base import DAG\n",
    "from pgmpy.factors.discrete.CPD import TabularCPD\n",
    "from pgmpy.inference import VariableElimination\n",
    "from pgmpy.models import BayesianNetwork\n",
    "\n",
    "# Create a DAG\n",
    "g = DAG()\n",
    "\n",
    "# Add nodes to the DAG\n",
    "NODES = [\"i\", \"w\", \"n\", \"l\", \"c\", \"b\", \"e\", \"r\"]\n",
    "g.add_nodes_from(NODES)\n",
    "\n",
    "# Add the edges in the graph\n",
    "EDGES = [\n",
    "    (\"i\", \"n\"), (\"i\", \"l\"), (\"w\", \"c\"),\n",
    "    (\"n\", \"e\"), (\"l\", \"b\"),(\"c\", \"b\"),\n",
    "    (\"b\", \"e\"), (\"b\", \"r\")\n",
    "]\n",
    "g.add_edges_from(ebunch=EDGES)\n",
    "\n",
    "# Create a bayesian network model\n",
    "model = BayesianNetwork(g)\n",
    "\n",
    "# Create conditional probability distributions\n",
    "cpd_l = TabularCPD(\n",
    "    \"l\", 2, [[0.7, 0.98], [0.3, 0.02]], evidence=[\"i\"], evidence_card=[2]\n",
    ")\n",
    "\n",
    "cpd_n = TabularCPD(\n",
    "    \"n\", 2, [[0.9, 0.99], [0.1, 0.01]], evidence=[\"i\"], evidence_card=[2]\n",
    ")\n",
    "\n",
    "cpd_b = TabularCPD(\n",
    "    \"b\",\n",
    "    2,\n",
    "    [[0.1, 0.2, 0.8, 0.99], [0.9, 0.8, 0.2, 0.01]],\n",
    "    evidence=[\"l\", \"c\"],\n",
    "    evidence_card=[2, 2],\n",
    ")\n",
    "cpd_e = TabularCPD(\n",
    "    \"e\",\n",
    "    2,\n",
    "    [[0.1, 0.2, 0.3, 0.95], [.9, .8, .7, .05]],\n",
    "    evidence=[\"n\", \"b\"],\n",
    "    evidence_card=[2, 2],\n",
    ")\n",
    "\n",
    "# Add the CPDs to the model\n",
    "model.add_cpds(*[cpd_n, cpd_l, cpd_b, cpd_e])"
   ]
  },
  {
   "cell_type": "code",
   "execution_count": null,
   "id": "8038ec78-45a1-459a-a61e-818d22ff56d5",
   "metadata": {},
   "outputs": [
    {
     "ename": "ValueError",
     "evalue": "No CPD associated with i",
     "output_type": "error",
     "traceback": [
      "\u001b[0;31m---------------------------------------------------------------------------\u001b[0m",
      "\u001b[0;31mValueError\u001b[0m                                Traceback (most recent call last)",
      "Input \u001b[0;32mIn [2]\u001b[0m, in \u001b[0;36m<cell line: 1>\u001b[0;34m()\u001b[0m\n\u001b[0;32m----> 1\u001b[0m infer \u001b[38;5;241m=\u001b[39m \u001b[43mVariableElimination\u001b[49m\u001b[43m(\u001b[49m\u001b[43mmodel\u001b[49m\u001b[43m)\u001b[49m\n\u001b[1;32m      2\u001b[0m g_dist \u001b[38;5;241m=\u001b[39m infer\u001b[38;5;241m.\u001b[39mquery(NODES)\n\u001b[1;32m      3\u001b[0m \u001b[38;5;66;03m# g_dist.marginalize([])\u001b[39;00m\n",
      "File \u001b[0;32m~/anaconda3/envs/face_rec/lib/python3.8/site-packages/pgmpy/inference/base.py:67\u001b[0m, in \u001b[0;36mInference.__init__\u001b[0;34m(self, model)\u001b[0m\n\u001b[1;32m     65\u001b[0m \u001b[38;5;28;01mdef\u001b[39;00m \u001b[38;5;21m__init__\u001b[39m(\u001b[38;5;28mself\u001b[39m, model):\n\u001b[1;32m     66\u001b[0m     \u001b[38;5;28mself\u001b[39m\u001b[38;5;241m.\u001b[39mmodel \u001b[38;5;241m=\u001b[39m model\n\u001b[0;32m---> 67\u001b[0m     \u001b[43mmodel\u001b[49m\u001b[38;5;241;43m.\u001b[39;49m\u001b[43mcheck_model\u001b[49m\u001b[43m(\u001b[49m\u001b[43m)\u001b[49m\n\u001b[1;32m     69\u001b[0m     \u001b[38;5;28;01mif\u001b[39;00m \u001b[38;5;28misinstance\u001b[39m(\u001b[38;5;28mself\u001b[39m\u001b[38;5;241m.\u001b[39mmodel, JunctionTree):\n\u001b[1;32m     70\u001b[0m         \u001b[38;5;28mself\u001b[39m\u001b[38;5;241m.\u001b[39mvariables \u001b[38;5;241m=\u001b[39m \u001b[38;5;28mset\u001b[39m(chain(\u001b[38;5;241m*\u001b[39m\u001b[38;5;28mself\u001b[39m\u001b[38;5;241m.\u001b[39mmodel\u001b[38;5;241m.\u001b[39mnodes()))\n",
      "File \u001b[0;32m~/anaconda3/envs/face_rec/lib/python3.8/site-packages/pgmpy/models/BayesianNetwork.py:408\u001b[0m, in \u001b[0;36mBayesianNetwork.check_model\u001b[0;34m(self)\u001b[0m\n\u001b[1;32m    406\u001b[0m \u001b[38;5;66;03m# Check if a CPD is associated with every node.\u001b[39;00m\n\u001b[1;32m    407\u001b[0m \u001b[38;5;28;01mif\u001b[39;00m cpd \u001b[38;5;129;01mis\u001b[39;00m \u001b[38;5;28;01mNone\u001b[39;00m:\n\u001b[0;32m--> 408\u001b[0m     \u001b[38;5;28;01mraise\u001b[39;00m \u001b[38;5;167;01mValueError\u001b[39;00m(\u001b[38;5;124mf\u001b[39m\u001b[38;5;124m\"\u001b[39m\u001b[38;5;124mNo CPD associated with \u001b[39m\u001b[38;5;132;01m{\u001b[39;00mnode\u001b[38;5;132;01m}\u001b[39;00m\u001b[38;5;124m\"\u001b[39m)\n\u001b[1;32m    410\u001b[0m \u001b[38;5;66;03m# Check if the CPD is an instance of either TabularCPD or ContinuousFactor.\u001b[39;00m\n\u001b[1;32m    411\u001b[0m \u001b[38;5;28;01melif\u001b[39;00m \u001b[38;5;28misinstance\u001b[39m(cpd, (TabularCPD, ContinuousFactor)):\n",
      "\u001b[0;31mValueError\u001b[0m: No CPD associated with i"
     ]
    }
   ],
   "source": [
    "infer = VariableElimination(model)\n",
    "g_dist = infer.query(NODES)\n",
    "# g_dist.marginalize([])\n",
    "print(g_dist)"
   ]
  }
 ],
 "metadata": {
  "kernelspec": {
   "display_name": "Python 3 (ipykernel)",
   "language": "python",
   "name": "python3"
  }
 },
 "nbformat": 4,
 "nbformat_minor": 5
}
