{
 "cells": [
  {
   "cell_type": "markdown",
   "id": "d0b54a8a-ab1e-407c-b8be-458cbb8758ee",
   "metadata": {},
   "source": [
    "# Question 1\n",
    "\n",
    "![](https://i.imgur.com/g9JbxKN.png)"
   ]
  },
  {
   "cell_type": "code",
   "execution_count": null,
   "id": "7a46a741-e302-45a3-ace4-4c655b42c222",
   "metadata": {},
   "outputs": [],
   "source": [
    "# Import all the necessary libraries\n",
    "from pgmpy.base import DAG\n",
    "from pgmpy.models import BayesianNetwork\n",
    "from pgmpy.factors.discrete.CPD import TabularCPD\n",
    "from pgmpy.inference import VariableElimination\n",
    "\n",
    "# Create a DAG\n",
    "g = DAG()\n",
    "\n",
    "# Add nodes to the DAG\n",
    "g.add_nodes_from([\"income\", \"deposit\", \"payment\", \"housing\", \"security\"])\n",
    "\n",
    "# Add the edges in the graph\n",
    "g.add_edges_from(ebunch = [(\"income\", \"deposit\"), (\"income\", \"payment\"), \n",
    "                           (\"deposit\", \"payment\"),(\"payment\", \"security\"), \n",
    "                           (\"housing\", \"security\")])\n",
    "\n",
    "# Create a bayesian network model\n",
    "model = BayesianNetwork(g)\n",
    "\n",
    "# Create conditional probability distributions\n",
    "cpd_income = TabularCPD('income', 2, [[0.3], [0.7]])\n",
    "cpd_housing = TabularCPD(\"housing\", 2, [[0.35], [0.65]])\n",
    "cpd_deposit = TabularCPD(\"deposit\", 2, [[0.1, .6], [0.9, 0.4]], \n",
    "                         evidence = [\"income\"], evidence_card = [2])\n",
    "cpd_payment = TabularCPD(\"payment\", 2, \n",
    "                         [[.05, .5, .45, .6], [.95, 0.5, .55, .4]], \n",
    "                         evidence = [\"income\", \"deposit\"], \n",
    "                         evidence_card = [2, 2])\n",
    "cpd_security = TabularCPD(\"security\", 2, \n",
    "                          [[.01, .5, .75, .31], [.99, 0.5, .25, .69]], \n",
    "                          evidence = [\"payment\", \"housing\"], \n",
    "                          evidence_card = [2, 2])\n",
    "\n",
    "# Add the CPDs to the model\n",
    "model.add_cpds(*[cpd_income, cpd_housing, cpd_deposit, \n",
    "                 cpd_payment, cpd_security])"
   ]
  },
  {
   "cell_type": "markdown",
   "id": "e6567079-dacf-420b-977b-c3c0d20d9d91",
   "metadata": {},
   "source": [
    "## Question\n",
    "\n",
    "Indicate whether the following independence statements are true or false according to this model. Provide a very brief justification of your answer (not more than two or three sentences)\n",
    "\n",
    "- **Income ⊥ Security** - False. There's an active information path I -> P -> S.\n",
    "- **Income ⊥ Security | Payment** - True. Specifying payment breaks active paths between income and security.\n",
    "- **Income ⊥ Payment** - False. Income and payment have a direct connection.\n",
    "- **Income ⊥ Security | Payment, Deposit** - True. Specifying payment alone breaks all the direct  connections between income and security\n",
    "- **Deposit ⊥ Payment** - False. There is a direct connection between the two \n",
    "- **Income ⊥ Payment | Deposit** - False. Income and payment have a direct edge; Specifying deposit might stop the influence of payment on income through deposit but there's still a direct connection through which independence can't be established.\n",
    "___"
   ]
  },
  {
   "cell_type": "markdown",
   "id": "dee64350-c72e-4fd1-a739-626e178b0298",
   "metadata": {},
   "source": [
    "## Question\n",
    "\n",
    "Show the factorized form of the joint distribution over all of the variables, P(A, B, C, D, E)\n",
    "\n",
    "$$\n",
    "P(A, B, C, D, E) = P(A) \\times P(B|A) \\times P(C|B, A) \\times P(E|C, B, A) \\times P(D|E, C, B, A) \\\\\n",
    "\\therefore P(A, B, C, D, E) = P(A) \\times P(B|A) \\times P(C|B, A) \\times P(E) \\times P(D|E, C)\n",
    "$$\n",
    "\n",
    "First, applying the chain rule of probability and second, since we know the structure of the graph, expressing individual CPDs in the form $P(X|Pa(X))$.\n",
    "\n",
    "\n",
    "___"
   ]
  },
  {
   "cell_type": "markdown",
   "id": "457683b4-2617-497d-83d8-a9b90da15809",
   "metadata": {},
   "source": [
    "## Question\n",
    "\n",
    "Find out probability for payment is false, when no prior information is available."
   ]
  },
  {
   "cell_type": "code",
   "execution_count": null,
   "id": "ecd46db9-4beb-40e8-b0c5-16505266cc20",
   "metadata": {},
   "outputs": [
    {
     "name": "stdout",
     "output_type": "stream",
     "text": [
      "+------------+----------------+\n",
      "| payment    |   phi(payment) |\n",
      "+============+================+\n",
      "| payment(0) |         0.4935 |\n",
      "+------------+----------------+\n",
      "| payment(1) |         0.5065 |\n",
      "+------------+----------------+\n"
     ]
    }
   ],
   "source": [
    "infer = VariableElimination(model)\n",
    "g_dist = infer.query([\"income\", \"deposit\", \"payment\", \n",
    "                      \"housing\", \"security\"])\n",
    "g_dist.marginalize([\"income\", \"deposit\", \"housing\", \"security\"])\n",
    "print(g_dist)"
   ]
  },
  {
   "cell_type": "markdown",
   "id": "453d7ed7-46db-4d22-9693-730b9a949c32",
   "metadata": {},
   "source": [
    "From the above, the probability that the payment is false is `0.4935`\n",
    "\n",
    "\n",
    "___"
   ]
  },
  {
   "cell_type": "markdown",
   "id": "24db110d-2044-4b83-ac83-bf998296d383",
   "metadata": {},
   "source": [
    "## Question\n",
    "\n",
    "What is the probability that you have got Payment, given that the income is low? \n",
    "\n",
    "$P(\\bar{C}|\\bar{A}) = ?$"
   ]
  },
  {
   "cell_type": "code",
   "execution_count": null,
   "id": "98718804-5990-4b65-8e38-1ae3deeb2aaa",
   "metadata": {},
   "outputs": [
    {
     "name": "stdout",
     "output_type": "stream",
     "text": [
      "+-----------+------------+-----------------------+\n",
      "| income    | payment    |   phi(income,payment) |\n",
      "+===========+============+=======================+\n",
      "| income(0) | payment(0) |                0.1365 |\n",
      "+-----------+------------+-----------------------+\n",
      "| income(0) | payment(1) |                0.1635 |\n",
      "+-----------+------------+-----------------------+\n",
      "| income(1) | payment(0) |                0.3570 |\n",
      "+-----------+------------+-----------------------+\n",
      "| income(1) | payment(1) |                0.3430 |\n",
      "+-----------+------------+-----------------------+\n"
     ]
    }
   ],
   "source": [
    "infer = VariableElimination(model)\n",
    "g_dist = infer.query([\"income\", \"deposit\", \"payment\", \n",
    "                      \"housing\", \"security\"])\n",
    "g_dist.marginalize([\"deposit\", \"housing\", \"security\"])\n",
    "print(g_dist)"
   ]
  },
  {
   "cell_type": "code",
   "execution_count": null,
   "id": "c168c1bb-864e-4033-9182-f78a1571e95c",
   "metadata": {},
   "outputs": [],
   "source": [
    "cbar_and_abar = g_dist.values[1][1]"
   ]
  },
  {
   "cell_type": "code",
   "execution_count": null,
   "id": "ddaa0f24-5616-4d9e-a4da-62b5be7db145",
   "metadata": {},
   "outputs": [
    {
     "name": "stdout",
     "output_type": "stream",
     "text": [
      "+-----------+---------------+\n",
      "| income    |   phi(income) |\n",
      "+===========+===============+\n",
      "| income(0) |        0.3000 |\n",
      "+-----------+---------------+\n",
      "| income(1) |        0.7000 |\n",
      "+-----------+---------------+\n"
     ]
    }
   ],
   "source": [
    "g_dist.marginalize([\"payment\"])\n",
    "print(g_dist)"
   ]
  },
  {
   "cell_type": "code",
   "execution_count": null,
   "id": "1cb605d6-32c6-44a6-add1-107f8a38b89c",
   "metadata": {},
   "outputs": [],
   "source": [
    "cbar = g_dist.values[1]"
   ]
  },
  {
   "cell_type": "code",
   "execution_count": null,
   "id": "8e775baf-d3ed-4a2a-8a46-1181734bf4fc",
   "metadata": {},
   "outputs": [
    {
     "data": {
      "text/plain": [
       "0.49"
      ]
     },
     "execution_count": null,
     "metadata": {},
     "output_type": "execute_result"
    }
   ],
   "source": [
    "p_cbar_given_abar = cbar_and_abar / cbar\n",
    "p_cbar_given_abar"
   ]
  },
  {
   "cell_type": "markdown",
   "id": "771bed88-4caf-4395-ab13-94130714c8ae",
   "metadata": {},
   "source": [
    "The probability of getting payment given low income is `0.49`\n",
    "\n",
    "\n",
    "___"
   ]
  },
  {
   "cell_type": "markdown",
   "id": "96ce23af-a7c4-45f1-a63d-34b18f851c9e",
   "metadata": {},
   "source": [
    "## Question\n",
    "\n",
    "What is the probability that you have got Payment, given that the income is low and you have large deposits?\n",
    "\n",
    "$P(\\bar{C}|\\bar{A}, B) = ?$"
   ]
  },
  {
   "cell_type": "code",
   "execution_count": null,
   "id": "6bfd418a-3e0d-40fb-a168-7a833d8a4766",
   "metadata": {},
   "outputs": [
    {
     "data": {
      "text/plain": [
       "0.23099999999999998"
      ]
     },
     "execution_count": null,
     "metadata": {},
     "output_type": "execute_result"
    }
   ],
   "source": [
    "infer = VariableElimination(model)\n",
    "g_dist = infer.query([\"income\", \"deposit\", \"payment\", \n",
    "                      \"housing\", \"security\"])\n",
    "g_dist.marginalize([\"housing\", \"security\"])\n",
    "p_cbar_abar_b = g_dist.values[1][0][1]\n",
    "p_cbar_abar_b"
   ]
  },
  {
   "cell_type": "code",
   "execution_count": null,
   "id": "b623a305-aa17-4aa8-95e7-27a7f45c7810",
   "metadata": {},
   "outputs": [
    {
     "data": {
      "text/plain": [
       "0.42"
      ]
     },
     "execution_count": null,
     "metadata": {},
     "output_type": "execute_result"
    }
   ],
   "source": [
    "g_dist.marginalize([\"payment\"])\n",
    "p_abar_b = g_dist.values[1][0]\n",
    "p_abar_b"
   ]
  },
  {
   "cell_type": "code",
   "execution_count": null,
   "id": "859d1c2b-9ea6-4140-98f1-9b2fefd882bd",
   "metadata": {},
   "outputs": [
    {
     "data": {
      "text/plain": [
       "0.5499999999999999"
      ]
     },
     "execution_count": null,
     "metadata": {},
     "output_type": "execute_result"
    }
   ],
   "source": [
    "p_cbar_given_abar_b = p_cbar_abar_b / p_abar_b\n",
    "p_cbar_given_abar_b"
   ]
  },
  {
   "cell_type": "markdown",
   "id": "e3247566-19d4-44dc-a324-5046767c37a7",
   "metadata": {},
   "source": [
    "Probability of getting payment given that the income is low and having high deposits is `0.55`\n",
    "\n",
    "\n",
    "___"
   ]
  },
  {
   "cell_type": "markdown",
   "id": "753c7180-c795-412b-9baa-beef29c9f5f2",
   "metadata": {},
   "source": [
    "## Question\n",
    "\n",
    "What is the probability that you didn’t default in payment given high income and no security is given?\n",
    "\n",
    "$P(\\bar{C}|A,\\bar{D}) = ?$"
   ]
  },
  {
   "cell_type": "code",
   "execution_count": null,
   "id": "055c7e8e-014d-4848-8fbd-2ab44324d1da",
   "metadata": {},
   "outputs": [
    {
     "data": {
      "text/plain": [
       "0.08763599999999999"
      ]
     },
     "execution_count": null,
     "metadata": {},
     "output_type": "execute_result"
    }
   ],
   "source": [
    "infer = VariableElimination(model)\n",
    "g_dist = infer.query([\"income\", \"deposit\", \"payment\", \n",
    "                      \"housing\", \"security\"])\n",
    "g_dist.marginalize([\"deposit\", \"housing\"])\n",
    "p_cbar_a_dbar = g_dist.values[0][1][1]\n",
    "p_cbar_a_dbar"
   ]
  },
  {
   "cell_type": "code",
   "execution_count": null,
   "id": "59ba21bb-7360-4c91-adc8-eba6fbb7f4ce",
   "metadata": {},
   "outputs": [
    {
     "data": {
      "text/plain": [
       "0.17929575"
      ]
     },
     "execution_count": null,
     "metadata": {},
     "output_type": "execute_result"
    }
   ],
   "source": [
    "g_dist.marginalize([\"payment\"])\n",
    "p_a_dbar = g_dist.values[0][1]\n",
    "p_a_dbar"
   ]
  },
  {
   "cell_type": "code",
   "execution_count": null,
   "id": "0968c2ac-712d-448d-a931-cd187effc6fb",
   "metadata": {},
   "outputs": [
    {
     "data": {
      "text/plain": [
       "0.48877901456113704"
      ]
     },
     "execution_count": null,
     "metadata": {},
     "output_type": "execute_result"
    }
   ],
   "source": [
    "p_cbar_given_a_dbar = p_cbar_a_dbar / p_a_dbar\n",
    "p_cbar_given_a_dbar"
   ]
  },
  {
   "cell_type": "markdown",
   "id": "0fb5b920-f604-47e3-9953-5677801fa60d",
   "metadata": {},
   "source": [
    "Probability of not defaulting in payment given high income and no security is `0.4888`\n",
    "\n",
    "\n",
    "___"
   ]
  },
  {
   "cell_type": "markdown",
   "id": "8d360c44-b5c6-41a6-8580-1252f42098b1",
   "metadata": {},
   "source": [
    "# Question 2\n",
    "\n",
    "![](https://i.imgur.com/zrf3LtE.png)"
   ]
  },
  {
   "cell_type": "code",
   "execution_count": null,
   "id": "4a6dc91d-47b4-46ae-9b6b-4c359bab20ce",
   "metadata": {},
   "outputs": [],
   "source": [
    "# Create a DAG\n",
    "g = DAG()\n",
    "\n",
    "# Add nodes to the DAG\n",
    "g.add_nodes_from([\"asia\", \"smoker\", \"tb\", \"lung_cancer\", \"bronchitis\", \n",
    "                  \"tb_or_lc\", \"xray\", \"dispnea\"])\n",
    "\n",
    "# Define relationships in the DAG\n",
    "g.add_edges_from(ebunch = [(\"asia\", \"tb\"), (\"smoker\", \"lung_cancer\"), \n",
    "                           (\"smoker\", \"bronchitis\"), (\"tb\", \"tb_or_lc\"), \n",
    "                           (\"lung_cancer\", \"tb_or_lc\"), (\"tb_or_lc\", \"xray\"),\n",
    "                           (\"tb_or_lc\", \"dispnea\"), (\"bronchitis\", \"dispnea\")])\n",
    "\n",
    "# Marginal Distribution of Visiting Asia\n",
    "cpd_asia = TabularCPD('asia', 2, [[0.01], [0.99]])\n",
    "\n",
    "# Marginal Distribution of Smoking\n",
    "cpd_smoker = TabularCPD(\"smoker\", 2, [[0.5], [0.5]])\n",
    "\n",
    "# Conditional Distribution of TB given visit to Asia\n",
    "cpd_tb = TabularCPD(\"tb\", 2, [[0.05, .01], [0.95, 0.99]], \n",
    "                     evidence = [\"asia\"], evidence_card = [2])\n",
    "\n",
    "# Conditional Distribution of Lung Cancer given smoker\n",
    "cpd_lc = TabularCPD(\"lung_cancer\", 2, [[.1, .01], [.9, .99]], \n",
    "                     evidence = [\"smoker\"], evidence_card = [2])\n",
    "\n",
    "# Conditional Distribution of Bronchitis given smoker\n",
    "cpd_bronchitis = TabularCPD(\"bronchitis\", 2, [[.6, .3], [.4, .7]], \n",
    "                         evidence = [\"smoker\"], evidence_card = [2])\n",
    "\n",
    "# TB or Lung Cancer Node modelling\n",
    "cpd_lc_or_tb = TabularCPD(\"tb_or_lc\", 2, [[1, 1, 1, 0], [0, 0, 0, 1]], \n",
    "                          evidence = [\"tb\", \"lung_cancer\"], \n",
    "                          evidence_card = [2, 2])\n",
    "\n",
    "# Conditional Distribution of xray given tb or lc\n",
    "cpd_xray = TabularCPD(\"xray\", 2, [[.98, .05], [.02, .95]], \n",
    "                      evidence = [\"tb_or_lc\"], \n",
    "                      evidence_card = [2])\n",
    "\n",
    "# Conditional Distribution of dispnea given bronchitis or either of lc/tb\n",
    "cpd_dispnea = TabularCPD(\"dispnea\", 2, [[.9, .8, .7, .1], [.1, .2, .3, .9]], \n",
    "                         evidence = [\"bronchitis\", \"tb_or_lc\"], \n",
    "                         evidence_card = [2, 2])\n",
    "\n",
    "# Create a BN model and add all the conditional distributions\n",
    "model = BayesianNetwork(g)\n",
    "model.add_cpds(*[cpd_asia, cpd_smoker, cpd_tb, cpd_lc, cpd_bronchitis, cpd_lc_or_tb, cpd_xray, cpd_dispnea])"
   ]
  },
  {
   "cell_type": "markdown",
   "id": "876c8e9f-a373-46d1-a974-68431064862e",
   "metadata": {},
   "source": [
    "## Question\n",
    "\n",
    "What is the probability that you have the tuberculosis, given that you have visited Asia, you have Lung Cancer, and you know that you have positive x-ray?\n",
    "\n",
    "To find:  $P(T | A, L, E, X) = \\frac{P(T, A, L, E, X)}{P(A, L, E, X)}$"
   ]
  },
  {
   "cell_type": "code",
   "execution_count": null,
   "id": "430cdca3-63df-4eb6-ae01-0757e349f6cf",
   "metadata": {},
   "outputs": [
    {
     "data": {
      "text/plain": [
       "2.6950000000000005e-05"
      ]
     },
     "execution_count": null,
     "metadata": {},
     "output_type": "execute_result"
    }
   ],
   "source": [
    "infer = VariableElimination(model)\n",
    "g_dist = infer.query([\"asia\", \"smoker\", \"tb\", \"lung_cancer\", \n",
    "                      \"bronchitis\", \"tb_or_lc\", \"xray\", \"dispnea\"])\n",
    "g_dist.marginalize([\"smoker\", \"bronchitis\", \"dispnea\"])\n",
    "p_talex = g_dist.values[0][0][0][0][0]\n",
    "p_talex"
   ]
  },
  {
   "cell_type": "code",
   "execution_count": null,
   "id": "1d36cbda-b681-4540-b192-1d85201556e7",
   "metadata": {},
   "outputs": [
    {
     "data": {
      "text/plain": [
       "0.0005390000000000001"
      ]
     },
     "execution_count": null,
     "metadata": {},
     "output_type": "execute_result"
    }
   ],
   "source": [
    "g_dist.marginalize([\"tb\"])\n",
    "p_alex = g_dist.values[0][0][0][0]\n",
    "p_alex"
   ]
  },
  {
   "cell_type": "code",
   "execution_count": null,
   "id": "c9a82125-0ce7-4baa-b612-b3b9fefdf5aa",
   "metadata": {},
   "outputs": [
    {
     "data": {
      "text/plain": [
       "0.05"
      ]
     },
     "execution_count": null,
     "metadata": {},
     "output_type": "execute_result"
    }
   ],
   "source": [
    "required_cpd = p_talex / p_alex\n",
    "required_cpd"
   ]
  },
  {
   "cell_type": "markdown",
   "id": "db7103b7-effb-4acd-93b3-ba34af1b9824",
   "metadata": {},
   "source": [
    "The probability that you have the tuberculosis, given that you have visited Asia, you have Lung Cancer, and you know that you have positive x-ray is `0.05`.\n",
    "\n",
    "\n",
    "___"
   ]
  },
  {
   "cell_type": "markdown",
   "id": "217536cd-8477-4289-a327-4674a797ea3b",
   "metadata": {},
   "source": [
    "## Question\n",
    "What is the probability of having Dispnea given that you have positive x-ray\n",
    "\n",
    "To find:  $P(D | X) = \\frac{P(D, X)}{P(X)}$"
   ]
  },
  {
   "cell_type": "code",
   "execution_count": null,
   "id": "05fb8b1a-9fea-4f83-ad3e-58faf0e96868",
   "metadata": {},
   "outputs": [
    {
     "data": {
      "text/plain": [
       "0.07067010440000002"
      ]
     },
     "execution_count": null,
     "metadata": {},
     "output_type": "execute_result"
    }
   ],
   "source": [
    "infer = VariableElimination(model)\n",
    "g_dist = infer.query([\"asia\", \"smoker\", \"tb\", \"lung_cancer\", \n",
    "                      \"bronchitis\", \"tb_or_lc\", \"xray\", \"dispnea\"])\n",
    "g_dist.marginalize([\"asia\", \"smoker\", \"tb\", \"lung_cancer\", \n",
    "                    \"bronchitis\", \"tb_or_lc\"])\n",
    "p_dx = g_dist.values[0][0]\n",
    "p_dx"
   ]
  },
  {
   "cell_type": "code",
   "execution_count": null,
   "id": "e403d0b7-d945-42fc-9624-b7202ba4f8e4",
   "metadata": {},
   "outputs": [
    {
     "data": {
      "text/plain": [
       "0.11029004000000003"
      ]
     },
     "execution_count": null,
     "metadata": {},
     "output_type": "execute_result"
    }
   ],
   "source": [
    "g_dist.marginalize([\"dispnea\"])\n",
    "p_xray = g_dist.values[0]\n",
    "p_xray"
   ]
  },
  {
   "cell_type": "code",
   "execution_count": null,
   "id": "4b0cca8e-b1ca-4167-96ab-179e0d00dddf",
   "metadata": {},
   "outputs": [
    {
     "data": {
      "text/plain": [
       "0.6407659694384007"
      ]
     },
     "execution_count": null,
     "metadata": {},
     "output_type": "execute_result"
    }
   ],
   "source": [
    "p_d_given_x = p_dx / p_xray\n",
    "p_d_given_x"
   ]
  },
  {
   "cell_type": "markdown",
   "id": "271a16f6-70e4-4c4d-926c-90fee708b341",
   "metadata": {},
   "source": [
    "Probability of having dispnea given positive X-ray is `0.641`.\n",
    "\n",
    "\n",
    "___"
   ]
  },
  {
   "cell_type": "markdown",
   "id": "838f66d3-7542-426e-80e1-e872e1e1271a",
   "metadata": {},
   "source": [
    "## Question\n",
    "List all the independencies in the given graph"
   ]
  },
  {
   "cell_type": "code",
   "execution_count": null,
   "id": "8a6cda88-e3d1-4aa4-ac0c-5bf319667ec6",
   "metadata": {},
   "outputs": [
    {
     "name": "stdout",
     "output_type": "stream",
     "text": [
      "(xray ⟂ dispnea, tb, bronchitis, lung_cancer, asia, smoker | tb_or_lc)\n",
      "(xray ⟂ asia | tb)\n",
      "(xray ⟂ smoker, bronchitis | lung_cancer)\n",
      "(xray ⟂ bronchitis | smoker)\n",
      "(xray ⟂ tb, bronchitis, lung_cancer, asia, smoker | dispnea, tb_or_lc)\n",
      "(xray ⟂ asia | dispnea, tb)\n",
      "(xray ⟂ dispnea, bronchitis, lung_cancer, asia, smoker | tb_or_lc, tb)\n",
      "(xray ⟂ dispnea, tb, lung_cancer, asia, smoker | tb_or_lc, bronchitis)\n",
      "(xray ⟂ dispnea, tb, bronchitis, asia, smoker | lung_cancer, tb_or_lc)\n",
      "(xray ⟂ dispnea, tb, bronchitis, lung_cancer, smoker | asia, tb_or_lc)\n",
      "(xray ⟂ dispnea, tb, bronchitis, lung_cancer, asia | tb_or_lc, smoker)\n",
      "(xray ⟂ asia | bronchitis, tb)\n",
      "(xray ⟂ asia, bronchitis, smoker | lung_cancer, tb)\n",
      "(xray ⟂ asia, bronchitis | smoker, tb)\n",
      "(xray ⟂ smoker | lung_cancer, bronchitis)\n",
      "(xray ⟂ smoker, bronchitis | lung_cancer, asia)\n",
      "(xray ⟂ bronchitis | lung_cancer, smoker)\n",
      "(xray ⟂ bronchitis | asia, smoker)\n",
      "(xray ⟂ lung_cancer, asia, bronchitis, smoker | dispnea, tb_or_lc, tb)\n",
      "(xray ⟂ lung_cancer, asia, tb, smoker | dispnea, tb_or_lc, bronchitis)\n",
      "(xray ⟂ tb, asia, bronchitis, smoker | lung_cancer, dispnea, tb_or_lc)\n",
      "(xray ⟂ lung_cancer, tb, smoker, bronchitis | dispnea, tb_or_lc, asia)\n",
      "(xray ⟂ lung_cancer, tb, asia, bronchitis | dispnea, tb_or_lc, smoker)\n",
      "(xray ⟂ asia | bronchitis, dispnea, tb)\n",
      "(xray ⟂ asia | lung_cancer, dispnea, tb)\n",
      "(xray ⟂ asia | dispnea, smoker, tb)\n",
      "(xray ⟂ smoker | lung_cancer, dispnea, bronchitis)\n",
      "(xray ⟂ lung_cancer, dispnea, asia, smoker | bronchitis, tb_or_lc, tb)\n",
      "(xray ⟂ dispnea, asia, bronchitis, smoker | lung_cancer, tb_or_lc, tb)\n",
      "(xray ⟂ lung_cancer, dispnea, smoker, bronchitis | asia, tb_or_lc, tb)\n",
      "(xray ⟂ lung_cancer, dispnea, asia, bronchitis | tb_or_lc, tb, smoker)\n",
      "(xray ⟂ dispnea, asia, tb, smoker | lung_cancer, tb_or_lc, bronchitis)\n",
      "(xray ⟂ lung_cancer, dispnea, tb, smoker | asia, tb_or_lc, bronchitis)\n",
      "(xray ⟂ lung_cancer, dispnea, asia, tb | tb_or_lc, bronchitis, smoker)\n",
      "(xray ⟂ tb, dispnea, smoker, bronchitis | lung_cancer, asia, tb_or_lc)\n",
      "(xray ⟂ tb, dispnea, asia, bronchitis | lung_cancer, tb_or_lc, smoker)\n",
      "(xray ⟂ lung_cancer, dispnea, tb, bronchitis | asia, tb_or_lc, smoker)\n",
      "(xray ⟂ asia, smoker | bronchitis, lung_cancer, tb)\n",
      "(xray ⟂ asia | bronchitis, smoker, tb)\n",
      "(xray ⟂ smoker, bronchitis | lung_cancer, asia, tb)\n",
      "(xray ⟂ asia, bronchitis | lung_cancer, smoker, tb)\n",
      "(xray ⟂ bronchitis | asia, tb, smoker)\n",
      "(xray ⟂ smoker | lung_cancer, asia, bronchitis)\n",
      "(xray ⟂ bronchitis | lung_cancer, asia, smoker)\n",
      "(xray ⟂ lung_cancer, asia, smoker | bronchitis, dispnea, tb_or_lc, tb)\n",
      "(xray ⟂ asia, bronchitis, smoker | lung_cancer, dispnea, tb_or_lc, tb)\n",
      "(xray ⟂ lung_cancer, bronchitis, smoker | dispnea, tb_or_lc, tb, asia)\n",
      "(xray ⟂ lung_cancer, asia, bronchitis | dispnea, tb_or_lc, tb, smoker)\n",
      "(xray ⟂ asia, tb, smoker | lung_cancer, dispnea, tb_or_lc, bronchitis)\n",
      "(xray ⟂ lung_cancer, tb, smoker | dispnea, tb_or_lc, bronchitis, asia)\n",
      "(xray ⟂ lung_cancer, asia, tb | dispnea, tb_or_lc, bronchitis, smoker)\n",
      "(xray ⟂ tb, smoker, bronchitis | lung_cancer, dispnea, tb_or_lc, asia)\n",
      "(xray ⟂ tb, asia, bronchitis | lung_cancer, dispnea, tb_or_lc, smoker)\n",
      "(xray ⟂ lung_cancer, tb, bronchitis | dispnea, tb_or_lc, smoker, asia)\n",
      "(xray ⟂ asia, smoker | bronchitis, dispnea, lung_cancer, tb)\n",
      "(xray ⟂ asia | bronchitis, dispnea, smoker, tb)\n",
      "(xray ⟂ asia | lung_cancer, dispnea, smoker, tb)\n",
      "(xray ⟂ smoker | lung_cancer, dispnea, asia, bronchitis)\n",
      "(xray ⟂ dispnea, asia, smoker | bronchitis, lung_cancer, tb_or_lc, tb)\n",
      "(xray ⟂ lung_cancer, dispnea, smoker | bronchitis, asia, tb_or_lc, tb)\n",
      "(xray ⟂ lung_cancer, dispnea, asia | bronchitis, tb_or_lc, tb, smoker)\n",
      "(xray ⟂ bronchitis, dispnea, smoker | lung_cancer, asia, tb_or_lc, tb)\n",
      "(xray ⟂ dispnea, asia, bronchitis | lung_cancer, tb_or_lc, tb, smoker)\n",
      "(xray ⟂ lung_cancer, dispnea, bronchitis | asia, tb_or_lc, tb, smoker)\n",
      "(xray ⟂ tb, dispnea, smoker | lung_cancer, asia, tb_or_lc, bronchitis)\n",
      "(xray ⟂ dispnea, asia, tb | lung_cancer, tb_or_lc, bronchitis, smoker)\n",
      "(xray ⟂ lung_cancer, dispnea, tb | asia, tb_or_lc, bronchitis, smoker)\n",
      "(xray ⟂ tb, dispnea, bronchitis | lung_cancer, asia, tb_or_lc, smoker)\n",
      "(xray ⟂ smoker | bronchitis, lung_cancer, asia, tb)\n",
      "(xray ⟂ asia | bronchitis, lung_cancer, smoker, tb)\n",
      "(xray ⟂ bronchitis | lung_cancer, asia, tb, smoker)\n",
      "(xray ⟂ asia, smoker | tb_or_lc, dispnea, bronchitis, tb, lung_cancer)\n",
      "(xray ⟂ lung_cancer, smoker | tb_or_lc, asia, dispnea, bronchitis, tb)\n",
      "(xray ⟂ lung_cancer, asia | tb_or_lc, dispnea, bronchitis, tb, smoker)\n",
      "(xray ⟂ bronchitis, smoker | tb_or_lc, asia, dispnea, tb, lung_cancer)\n",
      "(xray ⟂ asia, bronchitis | tb_or_lc, dispnea, tb, lung_cancer, smoker)\n",
      "(xray ⟂ lung_cancer, bronchitis | tb_or_lc, asia, dispnea, tb, smoker)\n",
      "(xray ⟂ tb, smoker | tb_or_lc, asia, dispnea, bronchitis, lung_cancer)\n",
      "(xray ⟂ asia, tb | tb_or_lc, dispnea, bronchitis, lung_cancer, smoker)\n",
      "(xray ⟂ lung_cancer, tb | tb_or_lc, asia, dispnea, bronchitis, smoker)\n",
      "(xray ⟂ tb, bronchitis | tb_or_lc, asia, dispnea, lung_cancer, smoker)\n",
      "(xray ⟂ smoker | asia, dispnea, bronchitis, tb, lung_cancer)\n",
      "(xray ⟂ asia | dispnea, bronchitis, tb, lung_cancer, smoker)\n",
      "(xray ⟂ dispnea, smoker | tb_or_lc, asia, bronchitis, tb, lung_cancer)\n",
      "(xray ⟂ dispnea, asia | tb_or_lc, bronchitis, tb, lung_cancer, smoker)\n",
      "(xray ⟂ lung_cancer, dispnea | tb_or_lc, asia, bronchitis, tb, smoker)\n",
      "(xray ⟂ dispnea, bronchitis | tb_or_lc, asia, tb, lung_cancer, smoker)\n",
      "(xray ⟂ dispnea, tb | tb_or_lc, asia, bronchitis, lung_cancer, smoker)\n",
      "(xray ⟂ smoker | tb_or_lc, asia, dispnea, bronchitis, tb, lung_cancer)\n",
      "(xray ⟂ asia | tb_or_lc, dispnea, bronchitis, tb, lung_cancer, smoker)\n",
      "(xray ⟂ lung_cancer | tb_or_lc, asia, dispnea, bronchitis, tb, smoker)\n",
      "(xray ⟂ bronchitis | tb_or_lc, asia, dispnea, tb, lung_cancer, smoker)\n",
      "(xray ⟂ tb | tb_or_lc, asia, dispnea, bronchitis, lung_cancer, smoker)\n",
      "(xray ⟂ dispnea | tb_or_lc, asia, bronchitis, tb, lung_cancer, smoker)\n",
      "(tb_or_lc ⟂ asia | tb)\n",
      "(tb_or_lc ⟂ smoker, bronchitis | lung_cancer)\n",
      "(tb_or_lc ⟂ bronchitis | smoker)\n",
      "(tb_or_lc ⟂ asia | xray, tb)\n",
      "(tb_or_lc ⟂ smoker, bronchitis | xray, lung_cancer)\n",
      "(tb_or_lc ⟂ bronchitis | xray, smoker)\n",
      "(tb_or_lc ⟂ asia | dispnea, tb)\n",
      "(tb_or_lc ⟂ asia | bronchitis, tb)\n",
      "(tb_or_lc ⟂ asia, bronchitis, smoker | lung_cancer, tb)\n",
      "(tb_or_lc ⟂ asia, bronchitis | smoker, tb)\n",
      "(tb_or_lc ⟂ smoker | lung_cancer, bronchitis)\n",
      "(tb_or_lc ⟂ smoker, bronchitis | lung_cancer, asia)\n",
      "(tb_or_lc ⟂ bronchitis | lung_cancer, smoker)\n",
      "(tb_or_lc ⟂ bronchitis | asia, smoker)\n",
      "(tb_or_lc ⟂ asia | xray, dispnea, tb)\n",
      "(tb_or_lc ⟂ asia | xray, bronchitis, tb)\n",
      "(tb_or_lc ⟂ asia, bronchitis, smoker | xray, lung_cancer, tb)\n",
      "(tb_or_lc ⟂ asia, bronchitis | xray, smoker, tb)\n",
      "(tb_or_lc ⟂ smoker | xray, lung_cancer, bronchitis)\n",
      "(tb_or_lc ⟂ smoker, bronchitis | xray, lung_cancer, asia)\n",
      "(tb_or_lc ⟂ bronchitis | xray, lung_cancer, smoker)\n",
      "(tb_or_lc ⟂ bronchitis | xray, asia, smoker)\n",
      "(tb_or_lc ⟂ asia | bronchitis, dispnea, tb)\n",
      "(tb_or_lc ⟂ asia | lung_cancer, dispnea, tb)\n",
      "(tb_or_lc ⟂ asia | dispnea, smoker, tb)\n",
      "(tb_or_lc ⟂ smoker | lung_cancer, dispnea, bronchitis)\n",
      "(tb_or_lc ⟂ asia, smoker | bronchitis, lung_cancer, tb)\n",
      "(tb_or_lc ⟂ asia | bronchitis, smoker, tb)\n",
      "(tb_or_lc ⟂ bronchitis, smoker | lung_cancer, asia, tb)\n",
      "(tb_or_lc ⟂ asia, bronchitis | lung_cancer, smoker, tb)\n",
      "(tb_or_lc ⟂ bronchitis | asia, tb, smoker)\n",
      "(tb_or_lc ⟂ smoker | lung_cancer, asia, bronchitis)\n",
      "(tb_or_lc ⟂ bronchitis | lung_cancer, asia, smoker)\n",
      "(tb_or_lc ⟂ asia | xray, bronchitis, dispnea, tb)\n",
      "(tb_or_lc ⟂ asia | xray, lung_cancer, dispnea, tb)\n",
      "(tb_or_lc ⟂ asia | xray, dispnea, smoker, tb)\n",
      "(tb_or_lc ⟂ smoker | xray, lung_cancer, dispnea, bronchitis)\n",
      "(tb_or_lc ⟂ asia, smoker | xray, bronchitis, lung_cancer, tb)\n",
      "(tb_or_lc ⟂ asia | xray, bronchitis, smoker, tb)\n",
      "(tb_or_lc ⟂ bronchitis, smoker | xray, lung_cancer, asia, tb)\n",
      "(tb_or_lc ⟂ asia, bronchitis | xray, lung_cancer, smoker, tb)\n",
      "(tb_or_lc ⟂ bronchitis | xray, asia, tb, smoker)\n",
      "(tb_or_lc ⟂ smoker | xray, lung_cancer, asia, bronchitis)\n",
      "(tb_or_lc ⟂ bronchitis | xray, lung_cancer, asia, smoker)\n",
      "(tb_or_lc ⟂ asia, smoker | bronchitis, dispnea, lung_cancer, tb)\n",
      "(tb_or_lc ⟂ asia | bronchitis, dispnea, smoker, tb)\n",
      "(tb_or_lc ⟂ asia | lung_cancer, dispnea, smoker, tb)\n",
      "(tb_or_lc ⟂ smoker | lung_cancer, dispnea, asia, bronchitis)\n",
      "(tb_or_lc ⟂ smoker | bronchitis, lung_cancer, asia, tb)\n",
      "(tb_or_lc ⟂ asia | bronchitis, lung_cancer, smoker, tb)\n",
      "(tb_or_lc ⟂ bronchitis | lung_cancer, asia, tb, smoker)\n",
      "(tb_or_lc ⟂ asia, smoker | xray, dispnea, bronchitis, tb, lung_cancer)\n",
      "(tb_or_lc ⟂ asia | xray, dispnea, bronchitis, tb, smoker)\n",
      "(tb_or_lc ⟂ asia | xray, dispnea, tb, lung_cancer, smoker)\n",
      "(tb_or_lc ⟂ smoker | xray, asia, dispnea, bronchitis, lung_cancer)\n",
      "(tb_or_lc ⟂ smoker | xray, asia, bronchitis, tb, lung_cancer)\n",
      "(tb_or_lc ⟂ asia | xray, bronchitis, tb, lung_cancer, smoker)\n",
      "(tb_or_lc ⟂ bronchitis | xray, asia, tb, lung_cancer, smoker)\n",
      "(tb_or_lc ⟂ smoker | asia, dispnea, bronchitis, tb, lung_cancer)\n",
      "(tb_or_lc ⟂ asia | dispnea, bronchitis, tb, lung_cancer, smoker)\n",
      "(tb_or_lc ⟂ smoker | xray, asia, dispnea, bronchitis, tb, lung_cancer)\n",
      "(tb_or_lc ⟂ asia | xray, dispnea, bronchitis, tb, lung_cancer, smoker)\n",
      "(asia ⟂ lung_cancer, smoker, bronchitis)\n",
      "(asia ⟂ xray | tb_or_lc)\n",
      "(asia ⟂ xray, dispnea, tb_or_lc, bronchitis, lung_cancer, smoker | tb)\n",
      "(asia ⟂ lung_cancer, smoker | bronchitis)\n",
      "(asia ⟂ smoker, bronchitis | lung_cancer)\n",
      "(asia ⟂ lung_cancer, bronchitis | smoker)\n",
      "(asia ⟂ dispnea, tb_or_lc, bronchitis, lung_cancer, smoker | xray, tb)\n",
      "(asia ⟂ smoker, bronchitis | xray, lung_cancer)\n",
      "(asia ⟂ bronchitis | xray, smoker)\n",
      "(asia ⟂ xray | dispnea, tb_or_lc)\n",
      "(asia ⟂ xray, tb_or_lc, bronchitis, lung_cancer, smoker | dispnea, tb)\n",
      "(asia ⟂ xray, dispnea, bronchitis, lung_cancer, smoker | tb_or_lc, tb)\n",
      "(asia ⟂ xray, dispnea | tb_or_lc, bronchitis)\n",
      "(asia ⟂ xray, dispnea, smoker, bronchitis | lung_cancer, tb_or_lc)\n",
      "(asia ⟂ xray, dispnea, bronchitis | tb_or_lc, smoker)\n",
      "(asia ⟂ xray, dispnea, tb_or_lc, lung_cancer, smoker | bronchitis, tb)\n",
      "(asia ⟂ xray, dispnea, tb_or_lc, bronchitis, smoker | lung_cancer, tb)\n",
      "(asia ⟂ xray, dispnea, tb_or_lc, bronchitis, lung_cancer | smoker, tb)\n",
      "(asia ⟂ smoker | lung_cancer, bronchitis)\n",
      "(asia ⟂ lung_cancer | smoker, bronchitis)\n",
      "(asia ⟂ bronchitis | lung_cancer, smoker)\n",
      "(asia ⟂ lung_cancer, tb_or_lc, bronchitis, smoker | xray, dispnea, tb)\n",
      "(asia ⟂ lung_cancer, dispnea, smoker, bronchitis | xray, tb_or_lc, tb)\n",
      "(asia ⟂ dispnea | xray, tb_or_lc, bronchitis)\n",
      "(asia ⟂ dispnea, smoker, bronchitis | xray, lung_cancer, tb_or_lc)\n",
      "(asia ⟂ dispnea, bronchitis | xray, tb_or_lc, smoker)\n",
      "(asia ⟂ lung_cancer, dispnea, tb_or_lc, smoker | xray, bronchitis, tb)\n",
      "(asia ⟂ dispnea, tb_or_lc, bronchitis, smoker | xray, lung_cancer, tb)\n",
      "(asia ⟂ lung_cancer, dispnea, tb_or_lc, bronchitis | xray, smoker, tb)\n",
      "(asia ⟂ smoker | xray, lung_cancer, bronchitis)\n",
      "(asia ⟂ bronchitis | xray, lung_cancer, smoker)\n",
      "(asia ⟂ xray, lung_cancer, bronchitis, smoker | dispnea, tb_or_lc, tb)\n",
      "(asia ⟂ xray | dispnea, tb_or_lc, bronchitis)\n",
      "(asia ⟂ xray, smoker, bronchitis | lung_cancer, dispnea, tb_or_lc)\n",
      "(asia ⟂ xray, bronchitis | dispnea, tb_or_lc, smoker)\n",
      "(asia ⟂ xray, lung_cancer, tb_or_lc, smoker | bronchitis, dispnea, tb)\n",
      "(asia ⟂ xray, tb_or_lc, bronchitis, smoker | lung_cancer, dispnea, tb)\n",
      "(asia ⟂ xray, lung_cancer, tb_or_lc, bronchitis | dispnea, smoker, tb)\n",
      "(asia ⟂ smoker | lung_cancer, dispnea, bronchitis)\n",
      "(asia ⟂ xray, lung_cancer, dispnea, smoker | bronchitis, tb_or_lc, tb)\n",
      "(asia ⟂ xray, bronchitis, dispnea, smoker | lung_cancer, tb_or_lc, tb)\n",
      "(asia ⟂ xray, lung_cancer, dispnea, bronchitis | tb_or_lc, tb, smoker)\n",
      "(asia ⟂ xray, dispnea, smoker | lung_cancer, tb_or_lc, bronchitis)\n",
      "(asia ⟂ xray, dispnea | tb_or_lc, bronchitis, smoker)\n",
      "(asia ⟂ xray, dispnea, bronchitis | lung_cancer, tb_or_lc, smoker)\n",
      "(asia ⟂ xray, dispnea, tb_or_lc, smoker | bronchitis, lung_cancer, tb)\n",
      "(asia ⟂ xray, lung_cancer, dispnea, tb_or_lc | bronchitis, smoker, tb)\n",
      "(asia ⟂ xray, dispnea, tb_or_lc, bronchitis | lung_cancer, smoker, tb)\n",
      "(asia ⟂ lung_cancer, bronchitis, smoker | xray, dispnea, tb_or_lc, tb)\n",
      "(asia ⟂ smoker, bronchitis | xray, lung_cancer, dispnea, tb_or_lc)\n",
      "(asia ⟂ bronchitis | xray, dispnea, tb_or_lc, smoker)\n",
      "(asia ⟂ lung_cancer, tb_or_lc, smoker | xray, bronchitis, dispnea, tb)\n",
      "(asia ⟂ tb_or_lc, bronchitis, smoker | xray, lung_cancer, dispnea, tb)\n",
      "(asia ⟂ lung_cancer, tb_or_lc, bronchitis | xray, dispnea, smoker, tb)\n",
      "(asia ⟂ smoker | xray, lung_cancer, dispnea, bronchitis)\n",
      "(asia ⟂ lung_cancer, dispnea, smoker | xray, bronchitis, tb_or_lc, tb)\n",
      "(asia ⟂ bronchitis, dispnea, smoker | xray, lung_cancer, tb_or_lc, tb)\n",
      "(asia ⟂ lung_cancer, dispnea, bronchitis | xray, tb_or_lc, tb, smoker)\n",
      "(asia ⟂ dispnea, smoker | xray, lung_cancer, tb_or_lc, bronchitis)\n",
      "(asia ⟂ dispnea | xray, tb_or_lc, bronchitis, smoker)\n",
      "(asia ⟂ dispnea, bronchitis | xray, lung_cancer, tb_or_lc, smoker)\n",
      "(asia ⟂ dispnea, tb_or_lc, smoker | xray, bronchitis, lung_cancer, tb)\n",
      "(asia ⟂ lung_cancer, dispnea, tb_or_lc | xray, bronchitis, smoker, tb)\n",
      "(asia ⟂ dispnea, tb_or_lc, bronchitis | xray, lung_cancer, smoker, tb)\n",
      "(asia ⟂ xray, lung_cancer, smoker | bronchitis, dispnea, tb_or_lc, tb)\n",
      "(asia ⟂ xray, bronchitis, smoker | lung_cancer, dispnea, tb_or_lc, tb)\n",
      "(asia ⟂ xray, lung_cancer, bronchitis | dispnea, tb_or_lc, tb, smoker)\n",
      "(asia ⟂ xray, smoker | lung_cancer, dispnea, tb_or_lc, bronchitis)\n",
      "(asia ⟂ xray | dispnea, tb_or_lc, bronchitis, smoker)\n",
      "(asia ⟂ xray, bronchitis | lung_cancer, dispnea, tb_or_lc, smoker)\n",
      "(asia ⟂ xray, tb_or_lc, smoker | bronchitis, dispnea, lung_cancer, tb)\n",
      "(asia ⟂ xray, lung_cancer, tb_or_lc | bronchitis, dispnea, smoker, tb)\n",
      "(asia ⟂ xray, tb_or_lc, bronchitis | lung_cancer, dispnea, smoker, tb)\n",
      "(asia ⟂ xray, dispnea, smoker | bronchitis, lung_cancer, tb_or_lc, tb)\n",
      "(asia ⟂ xray, lung_cancer, dispnea | bronchitis, tb_or_lc, tb, smoker)\n",
      "(asia ⟂ xray, dispnea, bronchitis | lung_cancer, tb_or_lc, tb, smoker)\n",
      "(asia ⟂ xray, dispnea | lung_cancer, tb_or_lc, bronchitis, smoker)\n",
      "(asia ⟂ xray, dispnea, tb_or_lc | bronchitis, lung_cancer, smoker, tb)\n",
      "(asia ⟂ lung_cancer, smoker | xray, tb_or_lc, dispnea, bronchitis, tb)\n",
      "(asia ⟂ bronchitis, smoker | xray, tb_or_lc, dispnea, tb, lung_cancer)\n",
      "(asia ⟂ lung_cancer, bronchitis | xray, tb_or_lc, dispnea, tb, smoker)\n",
      "(asia ⟂ smoker | xray, tb_or_lc, dispnea, bronchitis, lung_cancer)\n",
      "(asia ⟂ bronchitis | xray, tb_or_lc, dispnea, lung_cancer, smoker)\n",
      "(asia ⟂ tb_or_lc, smoker | xray, dispnea, bronchitis, tb, lung_cancer)\n",
      "(asia ⟂ lung_cancer, tb_or_lc | xray, dispnea, bronchitis, tb, smoker)\n",
      "(asia ⟂ tb_or_lc, bronchitis | xray, dispnea, tb, lung_cancer, smoker)\n",
      "(asia ⟂ dispnea, smoker | xray, tb_or_lc, bronchitis, tb, lung_cancer)\n",
      "(asia ⟂ lung_cancer, dispnea | xray, tb_or_lc, bronchitis, tb, smoker)\n",
      "(asia ⟂ dispnea, bronchitis | xray, tb_or_lc, tb, lung_cancer, smoker)\n",
      "(asia ⟂ dispnea | xray, tb_or_lc, bronchitis, lung_cancer, smoker)\n",
      "(asia ⟂ dispnea, tb_or_lc | xray, bronchitis, tb, lung_cancer, smoker)\n",
      "(asia ⟂ xray, smoker | tb_or_lc, dispnea, bronchitis, tb, lung_cancer)\n",
      "(asia ⟂ xray, lung_cancer | tb_or_lc, dispnea, bronchitis, tb, smoker)\n",
      "(asia ⟂ xray, bronchitis | tb_or_lc, dispnea, tb, lung_cancer, smoker)\n",
      "(asia ⟂ xray | tb_or_lc, dispnea, bronchitis, lung_cancer, smoker)\n",
      "(asia ⟂ xray, tb_or_lc | dispnea, bronchitis, tb, lung_cancer, smoker)\n",
      "(asia ⟂ xray, dispnea | tb_or_lc, bronchitis, tb, lung_cancer, smoker)\n",
      "(asia ⟂ smoker | xray, tb_or_lc, dispnea, bronchitis, tb, lung_cancer)\n",
      "(asia ⟂ lung_cancer | xray, tb_or_lc, dispnea, bronchitis, tb, smoker)\n",
      "(asia ⟂ bronchitis | xray, tb_or_lc, dispnea, tb, lung_cancer, smoker)\n",
      "(asia ⟂ tb_or_lc | xray, dispnea, bronchitis, tb, lung_cancer, smoker)\n",
      "(asia ⟂ dispnea | xray, tb_or_lc, bronchitis, tb, lung_cancer, smoker)\n",
      "(asia ⟂ xray | tb_or_lc, dispnea, bronchitis, tb, lung_cancer, smoker)\n",
      "(dispnea ⟂ xray | tb_or_lc)\n",
      "(dispnea ⟂ asia | tb)\n",
      "(dispnea ⟂ asia | xray, tb)\n",
      "(dispnea ⟂ xray, asia | tb_or_lc, tb)\n",
      "(dispnea ⟂ xray, tb, lung_cancer, asia, smoker | tb_or_lc, bronchitis)\n",
      "(dispnea ⟂ xray, asia, tb | lung_cancer, tb_or_lc)\n",
      "(dispnea ⟂ xray | asia, tb_or_lc)\n",
      "(dispnea ⟂ xray, lung_cancer, asia, tb | tb_or_lc, smoker)\n",
      "(dispnea ⟂ asia | bronchitis, tb)\n",
      "(dispnea ⟂ asia | lung_cancer, tb)\n",
      "(dispnea ⟂ asia | smoker, tb)\n",
      "(dispnea ⟂ smoker | lung_cancer, bronchitis)\n",
      "(dispnea ⟂ asia | xray, tb_or_lc, tb)\n",
      "(dispnea ⟂ lung_cancer, asia, tb, smoker | xray, tb_or_lc, bronchitis)\n",
      "(dispnea ⟂ asia, tb | xray, lung_cancer, tb_or_lc)\n",
      "(dispnea ⟂ lung_cancer, asia, tb | xray, tb_or_lc, smoker)\n",
      "(dispnea ⟂ asia | xray, bronchitis, tb)\n",
      "(dispnea ⟂ asia | xray, lung_cancer, tb)\n",
      "(dispnea ⟂ asia | xray, smoker, tb)\n",
      "(dispnea ⟂ smoker | xray, lung_cancer, bronchitis)\n",
      "(dispnea ⟂ xray, lung_cancer, asia, smoker | bronchitis, tb_or_lc, tb)\n",
      "(dispnea ⟂ xray, asia | lung_cancer, tb_or_lc, tb)\n",
      "(dispnea ⟂ xray | asia, tb_or_lc, tb)\n",
      "(dispnea ⟂ xray, lung_cancer, asia | tb_or_lc, tb, smoker)\n",
      "(dispnea ⟂ xray, asia, tb, smoker | lung_cancer, tb_or_lc, bronchitis)\n",
      "(dispnea ⟂ xray, lung_cancer, tb, smoker | asia, tb_or_lc, bronchitis)\n",
      "(dispnea ⟂ xray, lung_cancer, asia, tb | tb_or_lc, bronchitis, smoker)\n",
      "(dispnea ⟂ xray, tb | lung_cancer, asia, tb_or_lc)\n",
      "(dispnea ⟂ xray, asia, tb | lung_cancer, tb_or_lc, smoker)\n",
      "(dispnea ⟂ xray, lung_cancer, tb | asia, tb_or_lc, smoker)\n",
      "(dispnea ⟂ asia, smoker | bronchitis, lung_cancer, tb)\n",
      "(dispnea ⟂ asia | bronchitis, smoker, tb)\n",
      "(dispnea ⟂ asia | lung_cancer, smoker, tb)\n",
      "(dispnea ⟂ smoker | lung_cancer, asia, bronchitis)\n",
      "(dispnea ⟂ lung_cancer, asia, smoker | xray, bronchitis, tb_or_lc, tb)\n",
      "(dispnea ⟂ asia | xray, lung_cancer, tb_or_lc, tb)\n",
      "(dispnea ⟂ lung_cancer, asia | xray, tb_or_lc, tb, smoker)\n",
      "(dispnea ⟂ asia, tb, smoker | xray, lung_cancer, tb_or_lc, bronchitis)\n",
      "(dispnea ⟂ lung_cancer, tb, smoker | xray, asia, tb_or_lc, bronchitis)\n",
      "(dispnea ⟂ lung_cancer, asia, tb | xray, tb_or_lc, bronchitis, smoker)\n",
      "(dispnea ⟂ tb | xray, lung_cancer, asia, tb_or_lc)\n",
      "(dispnea ⟂ asia, tb | xray, lung_cancer, tb_or_lc, smoker)\n",
      "(dispnea ⟂ lung_cancer, tb | xray, asia, tb_or_lc, smoker)\n",
      "(dispnea ⟂ asia, smoker | xray, bronchitis, lung_cancer, tb)\n",
      "(dispnea ⟂ asia | xray, bronchitis, smoker, tb)\n",
      "(dispnea ⟂ asia | xray, lung_cancer, smoker, tb)\n",
      "(dispnea ⟂ smoker | xray, lung_cancer, asia, bronchitis)\n",
      "(dispnea ⟂ xray, asia, smoker | bronchitis, lung_cancer, tb_or_lc, tb)\n",
      "(dispnea ⟂ xray, lung_cancer, smoker | bronchitis, asia, tb_or_lc, tb)\n",
      "(dispnea ⟂ xray, lung_cancer, asia | bronchitis, tb_or_lc, tb, smoker)\n",
      "(dispnea ⟂ xray | lung_cancer, asia, tb_or_lc, tb)\n",
      "(dispnea ⟂ xray, asia | lung_cancer, tb_or_lc, tb, smoker)\n",
      "(dispnea ⟂ xray, lung_cancer | asia, tb_or_lc, tb, smoker)\n",
      "(dispnea ⟂ xray, tb, smoker | lung_cancer, asia, tb_or_lc, bronchitis)\n",
      "(dispnea ⟂ xray, asia, tb | lung_cancer, tb_or_lc, bronchitis, smoker)\n",
      "(dispnea ⟂ xray, lung_cancer, tb | asia, tb_or_lc, bronchitis, smoker)\n",
      "(dispnea ⟂ xray, tb | lung_cancer, asia, tb_or_lc, smoker)\n",
      "(dispnea ⟂ smoker | bronchitis, lung_cancer, asia, tb)\n",
      "(dispnea ⟂ asia | bronchitis, lung_cancer, smoker, tb)\n",
      "(dispnea ⟂ asia, smoker | xray, tb_or_lc, bronchitis, tb, lung_cancer)\n",
      "(dispnea ⟂ lung_cancer, smoker | xray, tb_or_lc, asia, bronchitis, tb)\n",
      "(dispnea ⟂ lung_cancer, asia | xray, tb_or_lc, bronchitis, tb, smoker)\n",
      "(dispnea ⟂ asia | xray, tb_or_lc, tb, lung_cancer, smoker)\n",
      "(dispnea ⟂ lung_cancer | xray, tb_or_lc, asia, tb, smoker)\n",
      "(dispnea ⟂ tb, smoker | xray, tb_or_lc, asia, bronchitis, lung_cancer)\n",
      "(dispnea ⟂ asia, tb | xray, tb_or_lc, bronchitis, lung_cancer, smoker)\n",
      "(dispnea ⟂ lung_cancer, tb | xray, tb_or_lc, asia, bronchitis, smoker)\n",
      "(dispnea ⟂ tb | xray, tb_or_lc, asia, lung_cancer, smoker)\n",
      "(dispnea ⟂ smoker | xray, asia, bronchitis, tb, lung_cancer)\n",
      "(dispnea ⟂ asia | xray, bronchitis, tb, lung_cancer, smoker)\n",
      "(dispnea ⟂ xray, smoker | tb_or_lc, asia, bronchitis, tb, lung_cancer)\n",
      "(dispnea ⟂ xray, asia | tb_or_lc, bronchitis, tb, lung_cancer, smoker)\n",
      "(dispnea ⟂ xray, lung_cancer | tb_or_lc, asia, bronchitis, tb, smoker)\n",
      "(dispnea ⟂ xray | tb_or_lc, asia, tb, lung_cancer, smoker)\n",
      "(dispnea ⟂ xray, tb | tb_or_lc, asia, bronchitis, lung_cancer, smoker)\n",
      "(dispnea ⟂ smoker | xray, tb_or_lc, asia, bronchitis, tb, lung_cancer)\n",
      "(dispnea ⟂ asia | xray, tb_or_lc, bronchitis, tb, lung_cancer, smoker)\n",
      "(dispnea ⟂ lung_cancer | xray, tb_or_lc, asia, bronchitis, tb, smoker)\n",
      "(dispnea ⟂ tb | xray, tb_or_lc, asia, bronchitis, lung_cancer, smoker)\n",
      "(dispnea ⟂ xray | tb_or_lc, asia, bronchitis, tb, lung_cancer, smoker)\n",
      "(tb ⟂ lung_cancer, smoker, bronchitis)\n",
      "(tb ⟂ xray | tb_or_lc)\n",
      "(tb ⟂ lung_cancer, smoker | bronchitis)\n",
      "(tb ⟂ smoker, bronchitis | lung_cancer)\n",
      "(tb ⟂ lung_cancer, smoker, bronchitis | asia)\n",
      "(tb ⟂ lung_cancer, bronchitis | smoker)\n",
      "(tb ⟂ smoker, bronchitis | xray, lung_cancer)\n",
      "(tb ⟂ bronchitis | xray, smoker)\n",
      "(tb ⟂ xray | dispnea, tb_or_lc)\n",
      "(tb ⟂ xray, dispnea | tb_or_lc, bronchitis)\n",
      "(tb ⟂ xray, dispnea, smoker, bronchitis | lung_cancer, tb_or_lc)\n",
      "(tb ⟂ xray | asia, tb_or_lc)\n",
      "(tb ⟂ xray, dispnea, bronchitis | tb_or_lc, smoker)\n",
      "(tb ⟂ smoker | lung_cancer, bronchitis)\n",
      "(tb ⟂ lung_cancer, smoker | asia, bronchitis)\n",
      "(tb ⟂ lung_cancer | smoker, bronchitis)\n",
      "(tb ⟂ smoker, bronchitis | lung_cancer, asia)\n",
      "(tb ⟂ bronchitis | lung_cancer, smoker)\n",
      "(tb ⟂ lung_cancer, bronchitis | asia, smoker)\n",
      "(tb ⟂ dispnea | xray, tb_or_lc, bronchitis)\n",
      "(tb ⟂ dispnea, smoker, bronchitis | xray, lung_cancer, tb_or_lc)\n",
      "(tb ⟂ dispnea, bronchitis | xray, tb_or_lc, smoker)\n",
      "(tb ⟂ smoker | xray, lung_cancer, bronchitis)\n",
      "(tb ⟂ smoker, bronchitis | xray, lung_cancer, asia)\n",
      "(tb ⟂ bronchitis | xray, lung_cancer, smoker)\n",
      "(tb ⟂ bronchitis | xray, asia, smoker)\n",
      "(tb ⟂ xray | dispnea, tb_or_lc, bronchitis)\n",
      "(tb ⟂ xray, smoker, bronchitis | lung_cancer, dispnea, tb_or_lc)\n",
      "(tb ⟂ xray | dispnea, tb_or_lc, asia)\n",
      "(tb ⟂ xray, bronchitis | dispnea, tb_or_lc, smoker)\n",
      "(tb ⟂ smoker | lung_cancer, dispnea, bronchitis)\n",
      "(tb ⟂ xray, dispnea, smoker | lung_cancer, tb_or_lc, bronchitis)\n",
      "(tb ⟂ xray, dispnea | asia, tb_or_lc, bronchitis)\n",
      "(tb ⟂ xray, dispnea | tb_or_lc, bronchitis, smoker)\n",
      "(tb ⟂ xray, bronchitis, dispnea, smoker | lung_cancer, asia, tb_or_lc)\n",
      "(tb ⟂ xray, dispnea, bronchitis | lung_cancer, tb_or_lc, smoker)\n",
      "(tb ⟂ xray, dispnea, bronchitis | asia, tb_or_lc, smoker)\n",
      "(tb ⟂ smoker | lung_cancer, asia, bronchitis)\n",
      "(tb ⟂ lung_cancer | asia, bronchitis, smoker)\n",
      "(tb ⟂ bronchitis | lung_cancer, asia, smoker)\n",
      "(tb ⟂ smoker, bronchitis | xray, lung_cancer, dispnea, tb_or_lc)\n",
      "(tb ⟂ bronchitis | xray, dispnea, tb_or_lc, smoker)\n",
      "(tb ⟂ smoker | xray, lung_cancer, dispnea, bronchitis)\n",
      "(tb ⟂ dispnea, smoker | xray, lung_cancer, tb_or_lc, bronchitis)\n",
      "(tb ⟂ dispnea | xray, asia, tb_or_lc, bronchitis)\n",
      "(tb ⟂ dispnea | xray, tb_or_lc, bronchitis, smoker)\n",
      "(tb ⟂ bronchitis, dispnea, smoker | xray, lung_cancer, asia, tb_or_lc)\n",
      "(tb ⟂ dispnea, bronchitis | xray, lung_cancer, tb_or_lc, smoker)\n",
      "(tb ⟂ dispnea, bronchitis | xray, asia, tb_or_lc, smoker)\n",
      "(tb ⟂ smoker | xray, lung_cancer, asia, bronchitis)\n",
      "(tb ⟂ bronchitis | xray, lung_cancer, asia, smoker)\n",
      "(tb ⟂ xray, smoker | lung_cancer, dispnea, tb_or_lc, bronchitis)\n",
      "(tb ⟂ xray | dispnea, tb_or_lc, bronchitis, asia)\n",
      "(tb ⟂ xray | dispnea, tb_or_lc, bronchitis, smoker)\n",
      "(tb ⟂ xray, bronchitis, smoker | lung_cancer, dispnea, tb_or_lc, asia)\n",
      "(tb ⟂ xray, bronchitis | lung_cancer, dispnea, tb_or_lc, smoker)\n",
      "(tb ⟂ xray, bronchitis | dispnea, tb_or_lc, smoker, asia)\n",
      "(tb ⟂ smoker | lung_cancer, dispnea, asia, bronchitis)\n",
      "(tb ⟂ xray, dispnea, smoker | lung_cancer, asia, tb_or_lc, bronchitis)\n",
      "(tb ⟂ xray, dispnea | lung_cancer, tb_or_lc, bronchitis, smoker)\n",
      "(tb ⟂ xray, dispnea | asia, tb_or_lc, bronchitis, smoker)\n",
      "(tb ⟂ xray, dispnea, bronchitis | lung_cancer, asia, tb_or_lc, smoker)\n",
      "(tb ⟂ smoker | xray, tb_or_lc, dispnea, bronchitis, lung_cancer)\n",
      "(tb ⟂ bronchitis, smoker | xray, tb_or_lc, asia, dispnea, lung_cancer)\n",
      "(tb ⟂ bronchitis | xray, tb_or_lc, dispnea, lung_cancer, smoker)\n",
      "(tb ⟂ bronchitis | xray, tb_or_lc, asia, dispnea, smoker)\n",
      "(tb ⟂ smoker | xray, asia, dispnea, bronchitis, lung_cancer)\n",
      "(tb ⟂ dispnea, smoker | xray, tb_or_lc, asia, bronchitis, lung_cancer)\n",
      "(tb ⟂ dispnea | xray, tb_or_lc, bronchitis, lung_cancer, smoker)\n",
      "(tb ⟂ dispnea | xray, tb_or_lc, asia, bronchitis, smoker)\n",
      "(tb ⟂ dispnea, bronchitis | xray, tb_or_lc, asia, lung_cancer, smoker)\n",
      "(tb ⟂ xray, smoker | tb_or_lc, asia, dispnea, bronchitis, lung_cancer)\n",
      "(tb ⟂ xray | tb_or_lc, dispnea, bronchitis, lung_cancer, smoker)\n",
      "(tb ⟂ xray | tb_or_lc, asia, dispnea, bronchitis, smoker)\n",
      "(tb ⟂ xray, bronchitis | tb_or_lc, asia, dispnea, lung_cancer, smoker)\n",
      "(tb ⟂ xray, dispnea | tb_or_lc, asia, bronchitis, lung_cancer, smoker)\n",
      "(tb ⟂ smoker | xray, tb_or_lc, asia, dispnea, bronchitis, lung_cancer)\n",
      "(tb ⟂ bronchitis | xray, tb_or_lc, asia, dispnea, lung_cancer, smoker)\n",
      "(tb ⟂ dispnea | xray, tb_or_lc, asia, bronchitis, lung_cancer, smoker)\n",
      "(tb ⟂ xray | tb_or_lc, asia, dispnea, bronchitis, lung_cancer, smoker)\n",
      "(bronchitis ⟂ asia, tb)\n",
      "(bronchitis ⟂ xray | tb_or_lc)\n",
      "(bronchitis ⟂ asia | tb)\n",
      "(bronchitis ⟂ xray, asia, tb_or_lc, tb | lung_cancer)\n",
      "(bronchitis ⟂ tb | asia)\n",
      "(bronchitis ⟂ xray, tb_or_lc, tb, lung_cancer, asia | smoker)\n",
      "(bronchitis ⟂ asia | xray, tb)\n",
      "(bronchitis ⟂ asia, tb_or_lc, tb | xray, lung_cancer)\n",
      "(bronchitis ⟂ lung_cancer, asia, tb_or_lc, tb | xray, smoker)\n",
      "(bronchitis ⟂ xray | dispnea, tb_or_lc)\n",
      "(bronchitis ⟂ asia | dispnea, tb)\n",
      "(bronchitis ⟂ xray, asia | tb_or_lc, tb)\n",
      "(bronchitis ⟂ xray, asia, tb | lung_cancer, tb_or_lc)\n",
      "(bronchitis ⟂ xray | asia, tb_or_lc)\n",
      "(bronchitis ⟂ xray, lung_cancer, asia, tb | tb_or_lc, smoker)\n",
      "(bronchitis ⟂ xray, asia, tb_or_lc | lung_cancer, tb)\n",
      "(bronchitis ⟂ xray, lung_cancer, asia, tb_or_lc | smoker, tb)\n",
      "(bronchitis ⟂ xray, tb_or_lc, tb | lung_cancer, asia)\n",
      "(bronchitis ⟂ xray, asia, tb_or_lc, tb | lung_cancer, smoker)\n",
      "(bronchitis ⟂ xray, lung_cancer, tb_or_lc, tb | asia, smoker)\n",
      "(bronchitis ⟂ asia | xray, dispnea, tb)\n",
      "(bronchitis ⟂ asia | xray, tb_or_lc, tb)\n",
      "(bronchitis ⟂ asia, tb | xray, lung_cancer, tb_or_lc)\n",
      "(bronchitis ⟂ lung_cancer, asia, tb | xray, tb_or_lc, smoker)\n",
      "(bronchitis ⟂ asia, tb_or_lc | xray, lung_cancer, tb)\n",
      "(bronchitis ⟂ lung_cancer, asia, tb_or_lc | xray, smoker, tb)\n",
      "(bronchitis ⟂ tb_or_lc, tb | xray, lung_cancer, asia)\n",
      "(bronchitis ⟂ asia, tb_or_lc, tb | xray, lung_cancer, smoker)\n",
      "(bronchitis ⟂ lung_cancer, tb_or_lc, tb | xray, asia, smoker)\n",
      "(bronchitis ⟂ xray, asia | dispnea, tb_or_lc, tb)\n",
      "(bronchitis ⟂ xray, asia, tb | lung_cancer, dispnea, tb_or_lc)\n",
      "(bronchitis ⟂ xray | dispnea, tb_or_lc, asia)\n",
      "(bronchitis ⟂ xray, lung_cancer, asia, tb | dispnea, tb_or_lc, smoker)\n",
      "(bronchitis ⟂ asia | lung_cancer, dispnea, tb)\n",
      "(bronchitis ⟂ asia | dispnea, smoker, tb)\n",
      "(bronchitis ⟂ xray, asia | lung_cancer, tb_or_lc, tb)\n",
      "(bronchitis ⟂ xray | asia, tb_or_lc, tb)\n",
      "(bronchitis ⟂ xray, lung_cancer, asia | tb_or_lc, tb, smoker)\n",
      "(bronchitis ⟂ xray, tb | lung_cancer, asia, tb_or_lc)\n",
      "(bronchitis ⟂ xray, asia, tb | lung_cancer, tb_or_lc, smoker)\n",
      "(bronchitis ⟂ xray, lung_cancer, tb | asia, tb_or_lc, smoker)\n",
      "(bronchitis ⟂ xray, tb_or_lc | lung_cancer, asia, tb)\n",
      "(bronchitis ⟂ xray, asia, tb_or_lc | lung_cancer, smoker, tb)\n",
      "(bronchitis ⟂ xray, lung_cancer, tb_or_lc | asia, tb, smoker)\n",
      "(bronchitis ⟂ xray, tb_or_lc, tb | lung_cancer, asia, smoker)\n",
      "(bronchitis ⟂ asia | xray, dispnea, tb_or_lc, tb)\n",
      "(bronchitis ⟂ asia, tb | xray, lung_cancer, dispnea, tb_or_lc)\n",
      "(bronchitis ⟂ lung_cancer, asia, tb | xray, dispnea, tb_or_lc, smoker)\n",
      "(bronchitis ⟂ asia | xray, lung_cancer, dispnea, tb)\n",
      "(bronchitis ⟂ asia | xray, dispnea, smoker, tb)\n",
      "(bronchitis ⟂ asia | xray, lung_cancer, tb_or_lc, tb)\n",
      "(bronchitis ⟂ lung_cancer, asia | xray, tb_or_lc, tb, smoker)\n",
      "(bronchitis ⟂ tb | xray, lung_cancer, asia, tb_or_lc)\n",
      "(bronchitis ⟂ asia, tb | xray, lung_cancer, tb_or_lc, smoker)\n",
      "(bronchitis ⟂ lung_cancer, tb | xray, asia, tb_or_lc, smoker)\n",
      "(bronchitis ⟂ tb_or_lc | xray, lung_cancer, asia, tb)\n",
      "(bronchitis ⟂ asia, tb_or_lc | xray, lung_cancer, smoker, tb)\n",
      "(bronchitis ⟂ lung_cancer, tb_or_lc | xray, asia, tb, smoker)\n",
      "(bronchitis ⟂ tb_or_lc, tb | xray, lung_cancer, asia, smoker)\n",
      "(bronchitis ⟂ xray, asia | lung_cancer, dispnea, tb_or_lc, tb)\n",
      "(bronchitis ⟂ xray | dispnea, tb_or_lc, tb, asia)\n",
      "(bronchitis ⟂ xray, lung_cancer, asia | dispnea, tb_or_lc, tb, smoker)\n",
      "(bronchitis ⟂ xray, tb | lung_cancer, dispnea, tb_or_lc, asia)\n",
      "(bronchitis ⟂ xray, asia, tb | lung_cancer, dispnea, tb_or_lc, smoker)\n",
      "(bronchitis ⟂ xray, lung_cancer, tb | dispnea, tb_or_lc, smoker, asia)\n",
      "(bronchitis ⟂ asia | lung_cancer, dispnea, smoker, tb)\n",
      "(bronchitis ⟂ xray | lung_cancer, asia, tb_or_lc, tb)\n",
      "(bronchitis ⟂ xray, asia | lung_cancer, tb_or_lc, tb, smoker)\n",
      "(bronchitis ⟂ xray, lung_cancer | asia, tb_or_lc, tb, smoker)\n",
      "(bronchitis ⟂ xray, tb | lung_cancer, asia, tb_or_lc, smoker)\n",
      "(bronchitis ⟂ xray, tb_or_lc | lung_cancer, asia, tb, smoker)\n",
      "(bronchitis ⟂ asia | xray, tb_or_lc, dispnea, tb, lung_cancer)\n",
      "(bronchitis ⟂ lung_cancer, asia | xray, tb_or_lc, dispnea, tb, smoker)\n",
      "(bronchitis ⟂ tb | xray, tb_or_lc, asia, dispnea, lung_cancer)\n",
      "(bronchitis ⟂ asia, tb | xray, tb_or_lc, dispnea, lung_cancer, smoker)\n",
      "(bronchitis ⟂ lung_cancer, tb | xray, tb_or_lc, asia, dispnea, smoker)\n",
      "(bronchitis ⟂ asia | xray, dispnea, tb, lung_cancer, smoker)\n",
      "(bronchitis ⟂ asia | xray, tb_or_lc, tb, lung_cancer, smoker)\n",
      "(bronchitis ⟂ lung_cancer | xray, tb_or_lc, asia, tb, smoker)\n",
      "(bronchitis ⟂ tb | xray, tb_or_lc, asia, lung_cancer, smoker)\n",
      "(bronchitis ⟂ tb_or_lc | xray, asia, tb, lung_cancer, smoker)\n",
      "(bronchitis ⟂ xray | tb_or_lc, asia, dispnea, tb, lung_cancer)\n",
      "(bronchitis ⟂ xray, asia | tb_or_lc, dispnea, tb, lung_cancer, smoker)\n",
      "(bronchitis ⟂ xray, lung_cancer | tb_or_lc, asia, dispnea, tb, smoker)\n",
      "(bronchitis ⟂ xray, tb | tb_or_lc, asia, dispnea, lung_cancer, smoker)\n",
      "(bronchitis ⟂ xray | tb_or_lc, asia, tb, lung_cancer, smoker)\n",
      "(bronchitis ⟂ asia | xray, tb_or_lc, dispnea, tb, lung_cancer, smoker)\n",
      "(bronchitis ⟂ lung_cancer | xray, tb_or_lc, asia, dispnea, tb, smoker)\n",
      "(bronchitis ⟂ tb | xray, tb_or_lc, asia, dispnea, lung_cancer, smoker)\n",
      "(bronchitis ⟂ xray | tb_or_lc, asia, dispnea, tb, lung_cancer, smoker)\n",
      "(lung_cancer ⟂ asia, tb)\n",
      "(lung_cancer ⟂ xray | tb_or_lc)\n",
      "(lung_cancer ⟂ asia | tb)\n",
      "(lung_cancer ⟂ asia, tb | bronchitis)\n",
      "(lung_cancer ⟂ tb | asia)\n",
      "(lung_cancer ⟂ tb, asia, bronchitis | smoker)\n",
      "(lung_cancer ⟂ asia | xray, tb)\n",
      "(lung_cancer ⟂ bronchitis | xray, smoker)\n",
      "(lung_cancer ⟂ xray | dispnea, tb_or_lc)\n",
      "(lung_cancer ⟂ asia | dispnea, tb)\n",
      "(lung_cancer ⟂ xray, asia | tb_or_lc, tb)\n",
      "(lung_cancer ⟂ xray, dispnea | tb_or_lc, bronchitis)\n",
      "(lung_cancer ⟂ xray | asia, tb_or_lc)\n",
      "(lung_cancer ⟂ xray, dispnea, bronchitis | tb_or_lc, smoker)\n",
      "(lung_cancer ⟂ asia | bronchitis, tb)\n",
      "(lung_cancer ⟂ asia, bronchitis | smoker, tb)\n",
      "(lung_cancer ⟂ tb | asia, bronchitis)\n",
      "(lung_cancer ⟂ asia, tb | smoker, bronchitis)\n",
      "(lung_cancer ⟂ tb, bronchitis | asia, smoker)\n",
      "(lung_cancer ⟂ asia | xray, dispnea, tb)\n",
      "(lung_cancer ⟂ asia | xray, tb_or_lc, tb)\n",
      "(lung_cancer ⟂ dispnea | xray, tb_or_lc, bronchitis)\n",
      "(lung_cancer ⟂ dispnea, bronchitis | xray, tb_or_lc, smoker)\n",
      "(lung_cancer ⟂ asia | xray, bronchitis, tb)\n",
      "(lung_cancer ⟂ asia, bronchitis | xray, smoker, tb)\n",
      "(lung_cancer ⟂ bronchitis | xray, asia, smoker)\n",
      "(lung_cancer ⟂ xray, asia | dispnea, tb_or_lc, tb)\n",
      "(lung_cancer ⟂ xray | dispnea, tb_or_lc, bronchitis)\n",
      "(lung_cancer ⟂ xray | dispnea, tb_or_lc, asia)\n",
      "(lung_cancer ⟂ xray, bronchitis | dispnea, tb_or_lc, smoker)\n",
      "(lung_cancer ⟂ asia | bronchitis, dispnea, tb)\n",
      "(lung_cancer ⟂ asia | dispnea, smoker, tb)\n",
      "(lung_cancer ⟂ xray, dispnea, asia | bronchitis, tb_or_lc, tb)\n",
      "(lung_cancer ⟂ xray | asia, tb_or_lc, tb)\n",
      "(lung_cancer ⟂ xray, dispnea, asia, bronchitis | tb_or_lc, tb, smoker)\n",
      "(lung_cancer ⟂ xray, dispnea | asia, tb_or_lc, bronchitis)\n",
      "(lung_cancer ⟂ xray, dispnea | tb_or_lc, bronchitis, smoker)\n",
      "(lung_cancer ⟂ xray, dispnea, bronchitis | asia, tb_or_lc, smoker)\n",
      "(lung_cancer ⟂ asia | bronchitis, smoker, tb)\n",
      "(lung_cancer ⟂ bronchitis | asia, tb, smoker)\n",
      "(lung_cancer ⟂ tb | asia, bronchitis, smoker)\n",
      "(lung_cancer ⟂ asia | xray, dispnea, tb_or_lc, tb)\n",
      "(lung_cancer ⟂ bronchitis | xray, dispnea, tb_or_lc, smoker)\n",
      "(lung_cancer ⟂ asia | xray, bronchitis, dispnea, tb)\n",
      "(lung_cancer ⟂ asia | xray, dispnea, smoker, tb)\n",
      "(lung_cancer ⟂ dispnea, asia | xray, bronchitis, tb_or_lc, tb)\n",
      "(lung_cancer ⟂ dispnea, asia, bronchitis | xray, tb_or_lc, tb, smoker)\n",
      "(lung_cancer ⟂ dispnea | xray, asia, tb_or_lc, bronchitis)\n",
      "(lung_cancer ⟂ dispnea | xray, tb_or_lc, bronchitis, smoker)\n",
      "(lung_cancer ⟂ dispnea, bronchitis | xray, asia, tb_or_lc, smoker)\n",
      "(lung_cancer ⟂ asia | xray, bronchitis, smoker, tb)\n",
      "(lung_cancer ⟂ bronchitis | xray, asia, tb, smoker)\n",
      "(lung_cancer ⟂ xray, asia | bronchitis, dispnea, tb_or_lc, tb)\n",
      "(lung_cancer ⟂ xray | dispnea, tb_or_lc, tb, asia)\n",
      "(lung_cancer ⟂ xray, asia, bronchitis | dispnea, tb_or_lc, tb, smoker)\n",
      "(lung_cancer ⟂ xray | dispnea, tb_or_lc, bronchitis, asia)\n",
      "(lung_cancer ⟂ xray | dispnea, tb_or_lc, bronchitis, smoker)\n",
      "(lung_cancer ⟂ xray, bronchitis | dispnea, tb_or_lc, smoker, asia)\n",
      "(lung_cancer ⟂ asia | bronchitis, dispnea, smoker, tb)\n",
      "(lung_cancer ⟂ xray, dispnea | bronchitis, asia, tb_or_lc, tb)\n",
      "(lung_cancer ⟂ xray, dispnea, asia | bronchitis, tb_or_lc, tb, smoker)\n",
      "(lung_cancer ⟂ xray, dispnea, bronchitis | asia, tb_or_lc, tb, smoker)\n",
      "(lung_cancer ⟂ xray, dispnea | asia, tb_or_lc, bronchitis, smoker)\n",
      "(lung_cancer ⟂ asia | xray, tb_or_lc, dispnea, bronchitis, tb)\n",
      "(lung_cancer ⟂ asia, bronchitis | xray, tb_or_lc, dispnea, tb, smoker)\n",
      "(lung_cancer ⟂ bronchitis | xray, tb_or_lc, asia, dispnea, smoker)\n",
      "(lung_cancer ⟂ asia | xray, dispnea, bronchitis, tb, smoker)\n",
      "(lung_cancer ⟂ dispnea | xray, tb_or_lc, asia, bronchitis, tb)\n",
      "(lung_cancer ⟂ dispnea, asia | xray, tb_or_lc, bronchitis, tb, smoker)\n",
      "(lung_cancer ⟂ dispnea, bronchitis | xray, tb_or_lc, asia, tb, smoker)\n",
      "(lung_cancer ⟂ dispnea | xray, tb_or_lc, asia, bronchitis, smoker)\n",
      "(lung_cancer ⟂ xray | tb_or_lc, asia, dispnea, bronchitis, tb)\n",
      "(lung_cancer ⟂ xray, asia | tb_or_lc, dispnea, bronchitis, tb, smoker)\n",
      "(lung_cancer ⟂ xray, bronchitis | tb_or_lc, asia, dispnea, tb, smoker)\n",
      "(lung_cancer ⟂ xray | tb_or_lc, asia, dispnea, bronchitis, smoker)\n",
      "(lung_cancer ⟂ xray, dispnea | tb_or_lc, asia, bronchitis, tb, smoker)\n",
      "(lung_cancer ⟂ asia | xray, tb_or_lc, dispnea, bronchitis, tb, smoker)\n",
      "(lung_cancer ⟂ bronchitis | xray, tb_or_lc, asia, dispnea, tb, smoker)\n",
      "(lung_cancer ⟂ dispnea | xray, tb_or_lc, asia, bronchitis, tb, smoker)\n",
      "(lung_cancer ⟂ xray | tb_or_lc, asia, dispnea, bronchitis, tb, smoker)\n",
      "(smoker ⟂ asia, tb)\n",
      "(smoker ⟂ xray | tb_or_lc)\n",
      "(smoker ⟂ asia | tb)\n",
      "(smoker ⟂ asia, tb | bronchitis)\n",
      "(smoker ⟂ xray, asia, tb_or_lc, tb | lung_cancer)\n",
      "(smoker ⟂ tb | asia)\n",
      "(smoker ⟂ asia | xray, tb)\n",
      "(smoker ⟂ asia, tb_or_lc, tb | xray, lung_cancer)\n",
      "(smoker ⟂ xray | dispnea, tb_or_lc)\n",
      "(smoker ⟂ asia | dispnea, tb)\n",
      "(smoker ⟂ xray, asia | tb_or_lc, tb)\n",
      "(smoker ⟂ xray, dispnea | tb_or_lc, bronchitis)\n",
      "(smoker ⟂ xray, asia, tb | lung_cancer, tb_or_lc)\n",
      "(smoker ⟂ xray | asia, tb_or_lc)\n",
      "(smoker ⟂ asia | bronchitis, tb)\n",
      "(smoker ⟂ xray, asia, tb_or_lc | lung_cancer, tb)\n",
      "(smoker ⟂ xray, dispnea, tb_or_lc, tb, asia | lung_cancer, bronchitis)\n",
      "(smoker ⟂ tb | asia, bronchitis)\n",
      "(smoker ⟂ xray, tb_or_lc, tb | lung_cancer, asia)\n",
      "(smoker ⟂ asia | xray, dispnea, tb)\n",
      "(smoker ⟂ asia | xray, tb_or_lc, tb)\n",
      "(smoker ⟂ dispnea | xray, tb_or_lc, bronchitis)\n",
      "(smoker ⟂ asia, tb | xray, lung_cancer, tb_or_lc)\n",
      "(smoker ⟂ asia | xray, bronchitis, tb)\n",
      "(smoker ⟂ asia, tb_or_lc | xray, lung_cancer, tb)\n",
      "(smoker ⟂ dispnea, tb_or_lc, tb, asia | xray, lung_cancer, bronchitis)\n",
      "(smoker ⟂ tb_or_lc, tb | xray, lung_cancer, asia)\n",
      "(smoker ⟂ xray, asia | dispnea, tb_or_lc, tb)\n",
      "(smoker ⟂ xray | dispnea, tb_or_lc, bronchitis)\n",
      "(smoker ⟂ xray, asia, tb | lung_cancer, dispnea, tb_or_lc)\n",
      "(smoker ⟂ xray | dispnea, tb_or_lc, asia)\n",
      "(smoker ⟂ asia | bronchitis, dispnea, tb)\n",
      "(smoker ⟂ asia | lung_cancer, dispnea, tb)\n",
      "(smoker ⟂ xray, tb_or_lc, asia, tb | lung_cancer, dispnea, bronchitis)\n",
      "(smoker ⟂ xray, dispnea, asia | bronchitis, tb_or_lc, tb)\n",
      "(smoker ⟂ xray, asia | lung_cancer, tb_or_lc, tb)\n",
      "(smoker ⟂ xray | asia, tb_or_lc, tb)\n",
      "(smoker ⟂ xray, dispnea, asia, tb | lung_cancer, tb_or_lc, bronchitis)\n",
      "(smoker ⟂ xray, dispnea | asia, tb_or_lc, bronchitis)\n",
      "(smoker ⟂ xray, tb | lung_cancer, asia, tb_or_lc)\n",
      "(smoker ⟂ xray, dispnea, tb_or_lc, asia | bronchitis, lung_cancer, tb)\n",
      "(smoker ⟂ xray, tb_or_lc | lung_cancer, asia, tb)\n",
      "(smoker ⟂ xray, dispnea, tb_or_lc, tb | lung_cancer, asia, bronchitis)\n",
      "(smoker ⟂ asia | xray, dispnea, tb_or_lc, tb)\n",
      "(smoker ⟂ asia, tb | xray, lung_cancer, dispnea, tb_or_lc)\n",
      "(smoker ⟂ asia | xray, bronchitis, dispnea, tb)\n",
      "(smoker ⟂ asia | xray, lung_cancer, dispnea, tb)\n",
      "(smoker ⟂ tb_or_lc, asia, tb | xray, lung_cancer, dispnea, bronchitis)\n",
      "(smoker ⟂ dispnea, asia | xray, bronchitis, tb_or_lc, tb)\n",
      "(smoker ⟂ asia | xray, lung_cancer, tb_or_lc, tb)\n",
      "(smoker ⟂ dispnea, asia, tb | xray, lung_cancer, tb_or_lc, bronchitis)\n",
      "(smoker ⟂ dispnea | xray, asia, tb_or_lc, bronchitis)\n",
      "(smoker ⟂ tb | xray, lung_cancer, asia, tb_or_lc)\n",
      "(smoker ⟂ dispnea, tb_or_lc, asia | xray, bronchitis, lung_cancer, tb)\n",
      "(smoker ⟂ tb_or_lc | xray, lung_cancer, asia, tb)\n",
      "(smoker ⟂ dispnea, tb_or_lc, tb | xray, lung_cancer, asia, bronchitis)\n",
      "(smoker ⟂ xray, asia | bronchitis, dispnea, tb_or_lc, tb)\n",
      "(smoker ⟂ xray, asia | lung_cancer, dispnea, tb_or_lc, tb)\n",
      "(smoker ⟂ xray | dispnea, tb_or_lc, tb, asia)\n",
      "(smoker ⟂ xray, asia, tb | lung_cancer, dispnea, tb_or_lc, bronchitis)\n",
      "(smoker ⟂ xray | dispnea, tb_or_lc, bronchitis, asia)\n",
      "(smoker ⟂ xray, tb | lung_cancer, dispnea, tb_or_lc, asia)\n",
      "(smoker ⟂ xray, tb_or_lc, asia | bronchitis, dispnea, lung_cancer, tb)\n",
      "(smoker ⟂ xray, tb_or_lc, tb | lung_cancer, dispnea, asia, bronchitis)\n",
      "(smoker ⟂ xray, dispnea, asia | bronchitis, lung_cancer, tb_or_lc, tb)\n",
      "(smoker ⟂ xray, dispnea | bronchitis, asia, tb_or_lc, tb)\n",
      "(smoker ⟂ xray | lung_cancer, asia, tb_or_lc, tb)\n",
      "(smoker ⟂ xray, dispnea, tb | lung_cancer, asia, tb_or_lc, bronchitis)\n",
      "(smoker ⟂ xray, dispnea, tb_or_lc | bronchitis, lung_cancer, asia, tb)\n",
      "(smoker ⟂ asia | xray, tb_or_lc, dispnea, bronchitis, tb)\n",
      "(smoker ⟂ asia | xray, tb_or_lc, dispnea, tb, lung_cancer)\n",
      "(smoker ⟂ asia, tb | xray, tb_or_lc, dispnea, bronchitis, lung_cancer)\n",
      "(smoker ⟂ tb | xray, tb_or_lc, asia, dispnea, lung_cancer)\n",
      "(smoker ⟂ tb_or_lc, asia | xray, dispnea, bronchitis, tb, lung_cancer)\n",
      "(smoker ⟂ tb_or_lc, tb | xray, asia, dispnea, bronchitis, lung_cancer)\n",
      "(smoker ⟂ dispnea, asia | xray, tb_or_lc, bronchitis, tb, lung_cancer)\n",
      "(smoker ⟂ dispnea | xray, tb_or_lc, asia, bronchitis, tb)\n",
      "(smoker ⟂ dispnea, tb | xray, tb_or_lc, asia, bronchitis, lung_cancer)\n",
      "(smoker ⟂ dispnea, tb_or_lc | xray, asia, bronchitis, tb, lung_cancer)\n",
      "(smoker ⟂ xray, asia | tb_or_lc, dispnea, bronchitis, tb, lung_cancer)\n",
      "(smoker ⟂ xray | tb_or_lc, asia, dispnea, bronchitis, tb)\n",
      "(smoker ⟂ xray | tb_or_lc, asia, dispnea, tb, lung_cancer)\n",
      "(smoker ⟂ xray, tb | tb_or_lc, asia, dispnea, bronchitis, lung_cancer)\n",
      "(smoker ⟂ xray, tb_or_lc | asia, dispnea, bronchitis, tb, lung_cancer)\n",
      "(smoker ⟂ xray, dispnea | tb_or_lc, asia, bronchitis, tb, lung_cancer)\n",
      "(smoker ⟂ asia | xray, tb_or_lc, dispnea, bronchitis, tb, lung_cancer)\n",
      "(smoker ⟂ tb | xray, tb_or_lc, asia, dispnea, bronchitis, lung_cancer)\n",
      "(smoker ⟂ tb_or_lc | xray, asia, dispnea, bronchitis, tb, lung_cancer)\n",
      "(smoker ⟂ dispnea | xray, tb_or_lc, asia, bronchitis, tb, lung_cancer)\n",
      "(smoker ⟂ xray | tb_or_lc, asia, dispnea, bronchitis, tb, lung_cancer)\n"
     ]
    }
   ],
   "source": [
    "print(model.get_independencies())"
   ]
  }
 ],
 "metadata": {
  "kernelspec": {
   "display_name": "Python 3 (ipykernel)",
   "language": "python",
   "name": "python3"
  }
 },
 "nbformat": 4,
 "nbformat_minor": 5
}
